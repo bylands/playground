{
 "cells": [
  {
   "cell_type": "code",
   "execution_count": null,
   "metadata": {},
   "outputs": [],
   "source": [
    "import pandas as pd\n",
    "import matplotlib.pyplot as plt\n",
    "from pathvalidate import sanitize_filename"
   ]
  },
  {
   "cell_type": "code",
   "execution_count": null,
   "metadata": {},
   "outputs": [],
   "source": [
    "# define paths and import data\n",
    "path = '~/OneDrive - SekII Zürich/Schulleitung/Umfragen/Belastungsstudie MNG/'\n",
    "file1 = 'BBS1.xlsx'\n",
    "file2 = 'BBS2.xlsx'\n",
    "file3 = 'BBS3.xlsx'\n",
    "file_cols = 'columns.xlsx'\n",
    "\n",
    "cols = pd.read_excel(path+file_cols)\n",
    "df1 = pd.read_excel(path+file1)\n",
    "df2 = pd.read_excel(path+file2)\n",
    "df34 = pd.read_excel(path+file3)\n",
    "\n",
    "# define dataframes\n",
    "cols_sel1 = cols[cols['col_ma']==1]\n",
    "cols_sel4 = cols[cols['col_ma']==3]\n",
    "cols_lst1 = cols_sel1['col_ind'].to_list()\n",
    "cols_lst4 = cols_sel4['col_ind'].to_list()\n",
    "df1 = df1.iloc[:, cols_lst1]\n",
    "df2 = df2.iloc[:, cols_lst1]\n",
    "df3 = df34.iloc[:, cols_lst1]\n",
    "df4 = df34.iloc[:, cols_lst4]\n",
    "\n",
    "df = pd.concat([df1, df2, df3]).reset_index()\n",
    "\n",
    "df4_ext = df3.iloc[:, [0, 1, 2, 3]]\n",
    "df_ext = pd.concat([df4_ext, df4], axis=1)"
   ]
  },
  {
   "cell_type": "code",
   "execution_count": null,
   "metadata": {},
   "outputs": [],
   "source": [
    "df = df[df['Geschlecht']!='andere Identität']\n",
    "df_ext = df_ext[df_ext['Geschlecht']!='andere Identität']\n"
   ]
  },
  {
   "cell_type": "code",
   "execution_count": null,
   "metadata": {},
   "outputs": [],
   "source": [
    "df.to_excel('BBS_1-3.xlsx')\n",
    "df_ext.to_excel('BBS_4.xlsx')"
   ]
  },
  {
   "cell_type": "code",
   "execution_count": null,
   "metadata": {},
   "outputs": [],
   "source": [
    "df4_ext"
   ]
  },
  {
   "cell_type": "code",
   "execution_count": null,
   "metadata": {},
   "outputs": [],
   "source": [
    "df3.shape"
   ]
  },
  {
   "cell_type": "code",
   "execution_count": null,
   "metadata": {},
   "outputs": [],
   "source": []
  }
 ],
 "metadata": {
  "language_info": {
   "name": "python",
   "pygments_lexer": "ipython3"
  }
 },
 "nbformat": 4,
 "nbformat_minor": 2
}
