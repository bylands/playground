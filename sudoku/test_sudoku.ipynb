{
 "cells": [
  {
   "cell_type": "code",
   "execution_count": 28,
   "metadata": {},
   "outputs": [],
   "source": [
    "import copy\n",
    "import random\n",
    "from sudoku import generate_sudoku, solve_sudoku, print_board"
   ]
  },
  {
   "cell_type": "code",
   "execution_count": 29,
   "metadata": {},
   "outputs": [
    {
     "data": {
      "text/plain": [
       "True"
      ]
     },
     "execution_count": 29,
     "metadata": {},
     "output_type": "execute_result"
    }
   ],
   "source": [
    "board = [[0 for _ in range(9)] for _ in range(9)]\n",
    "\n",
    "# Fill in the diagonal boxes\n",
    "for i in range(0, 9, 3):\n",
    "    nums = [1, 2, 3, 4, 5, 6, 7, 8, 9]\n",
    "    random.shuffle(nums)\n",
    "    for j in range(3):\n",
    "        for k in range(3):\n",
    "            board[i + j][i + k] = nums.pop()\n",
    "\n",
    "# Solve the puzzle\n",
    "solve_sudoku(board)"
   ]
  },
  {
   "cell_type": "code",
   "execution_count": 58,
   "metadata": {},
   "outputs": [],
   "source": [
    "def create_puzzle(board, n_drop):\n",
    "    puzzle = copy.deepcopy(board)\n",
    "    pos_list = [(i, j) for i in range(9) for j in range(9)]\n",
    "    drop_list = random.sample(pos_list, n_drop)\n",
    "\n",
    "    for pos in drop_list:\n",
    "        i, j = pos\n",
    "        puzzle[i][j] = 0\n",
    "\n",
    "    solution = copy.deepcopy(puzzle)\n",
    "    solve_sudoku(solution)\n",
    "\n",
    "    return(solution)"
   ]
  },
  {
   "cell_type": "code",
   "execution_count": 74,
   "metadata": {},
   "outputs": [
    {
     "name": "stdout",
     "output_type": "stream",
     "text": [
      "22\n",
      "42\n",
      "45\n",
      "46\n",
      "47\n",
      "48\n",
      "49\n"
     ]
    }
   ],
   "source": [
    "for i in range(50):\n",
    "    if board != create_puzzle(board, i):\n",
    "        print(i)"
   ]
  },
  {
   "cell_type": "code",
   "execution_count": null,
   "metadata": {},
   "outputs": [],
   "source": []
  }
 ],
 "metadata": {
  "kernelspec": {
   "display_name": "playground",
   "language": "python",
   "name": "python3"
  },
  "language_info": {
   "codemirror_mode": {
    "name": "ipython",
    "version": 3
   },
   "file_extension": ".py",
   "mimetype": "text/x-python",
   "name": "python",
   "nbconvert_exporter": "python",
   "pygments_lexer": "ipython3",
   "version": "3.10.10"
  },
  "orig_nbformat": 4
 },
 "nbformat": 4,
 "nbformat_minor": 2
}
