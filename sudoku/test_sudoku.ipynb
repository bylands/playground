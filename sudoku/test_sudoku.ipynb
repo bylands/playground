{
 "cells": [
  {
   "cell_type": "code",
   "execution_count": null,
   "metadata": {},
   "outputs": [],
   "source": [
    "import copy\n",
    "import random\n",
    "from sudoku import generate_sudoku, solve_sudoku, print_board"
   ]
  },
  {
   "cell_type": "code",
   "execution_count": null,
   "metadata": {},
   "outputs": [],
   "source": [
    "board = [[0 for _ in range(9)] for _ in range(9)]\n",
    "\n",
    "# Fill in the diagonal boxes\n",
    "for i in range(0, 9, 3):\n",
    "    nums = [1, 2, 3, 4, 5, 6, 7, 8, 9]\n",
    "    random.shuffle(nums)\n",
    "    for j in range(3):\n",
    "        for k in range(3):\n",
    "            board[i + j][i + k] = nums.pop()\n",
    "\n",
    "# Solve the puzzle\n",
    "solve_sudoku(board)"
   ]
  },
  {
   "cell_type": "code",
   "execution_count": null,
   "metadata": {},
   "outputs": [],
   "source": [
    "def create_puzzle(board, n_drop):\n",
    "    puzzle = copy.deepcopy(board)\n",
    "    pos_list = [(i, j) for i in range(9) for j in range(9)]\n",
    "    drop_list = random.sample(pos_list, n_drop)\n",
    "\n",
    "    for pos in drop_list:\n",
    "        i, j = pos\n",
    "        puzzle[i][j] = 0\n",
    "\n",
    "    solution = copy.deepcopy(puzzle)\n",
    "    solve_sudoku(solution)\n",
    "\n",
    "    return(solution)"
   ]
  },
  {
   "cell_type": "code",
   "execution_count": null,
   "metadata": {},
   "outputs": [],
   "source": [
    "for i in range(50):\n",
    "    if board != create_puzzle(board, i):\n",
    "        print(i)"
   ]
  },
  {
   "cell_type": "code",
   "execution_count": null,
   "metadata": {},
   "outputs": [],
   "source": []
  }
 ],
 "metadata": {
  "language_info": {
   "name": "python",
   "pygments_lexer": "ipython3"
  }
 },
 "nbformat": 4,
 "nbformat_minor": 2
}
