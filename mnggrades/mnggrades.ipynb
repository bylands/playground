{
 "cells": [
  {
   "cell_type": "code",
   "execution_count": null,
   "metadata": {},
   "outputs": [],
   "source": [
    "import pandas as pd\n",
    "import io\n",
    "import csv\n",
    "from docx import Document\n",
    "\n",
    "def read_docx_tables(filename, tab_id=None, **kwargs):\n",
    "    \"\"\"\n",
    "    parse table(s) from a Word Document (.docx) into Pandas DataFrame(s)\n",
    "\n",
    "    Parameters:\n",
    "        filename:   file name of a Word Document\n",
    "\n",
    "        tab_id:     parse a single table with the index: [tab_id] (counting from 0).\n",
    "                    When [None] - return a list of DataFrames (parse all tables)\n",
    "\n",
    "        kwargs:     arguments to pass to `pd.read_csv()` function\n",
    "\n",
    "    Return: a single DataFrame if tab_id != None or a list of DataFrames otherwise\n",
    "    \"\"\"\n",
    "    def read_docx_tab(tab, **kwargs):\n",
    "        vf = io.StringIO()\n",
    "        writer = csv.writer(vf)\n",
    "        for row in tab.rows:\n",
    "            writer.writerow(cell.text for cell in row.cells)\n",
    "        vf.seek(0)\n",
    "        return pd.read_csv(vf, **kwargs)\n",
    "\n",
    "    doc = Document(filename)\n",
    "    if tab_id is None:\n",
    "        return [read_docx_tab(tab, **kwargs) for tab in doc.tables]\n",
    "    else:\n",
    "        try:\n",
    "            return read_docx_tab(doc.tables[tab_id], **kwargs)\n",
    "        except IndexError:\n",
    "            print('Error: specified [tab_id]: {}  does not exist.'.format(tab_id))\n",
    "            raise"
   ]
  },
  {
   "cell_type": "code",
   "execution_count": null,
   "metadata": {},
   "outputs": [],
   "source": [
    "df = read_docx_tables('1a.docx')[1][:-1]"
   ]
  },
  {
   "cell_type": "code",
   "execution_count": null,
   "metadata": {},
   "outputs": [],
   "source": [
    "df"
   ]
  },
  {
   "cell_type": "code",
   "execution_count": null,
   "metadata": {},
   "outputs": [],
   "source": []
  }
 ],
 "metadata": {
  "language_info": {
   "name": "python",
   "pygments_lexer": "ipython3"
  }
 },
 "nbformat": 4,
 "nbformat_minor": 2
}
