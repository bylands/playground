{
 "cells": [
  {
   "cell_type": "code",
   "execution_count": null,
   "metadata": {},
   "outputs": [],
   "source": [
    "from read_docx_tables import read_docx_tables\n",
    "import pandas as pd\n",
    "import numpy as np"
   ]
  },
  {
   "cell_type": "code",
   "execution_count": null,
   "metadata": {},
   "outputs": [],
   "source": [
    "semester = '22-23 s1/'\n",
    "\n",
    "grades_from = ['1', '1-2', '2', '2-3', '3', '3-4', '4', '4-5', '5', '5-6', '6', \n",
    "                'disp', 'besucht', 'Fehlt']\n",
    "grades_to = [1.0, 1.5, 2.0, 2.5, 3.0, 3.5, 4.0, 4.5, 5.0, 5.5, 6.0, np.NaN, np.NaN, np.NaN]\n",
    "\n",
    "mng_letters = ['a', 'b', 'c', 'd', 'e', 'f', 'g', 'h']\n",
    "ks_letters = ['p', 'q']\n",
    "\n",
    "mng = [str(y) + l for y in range(1, 4) for l in mng_letters]\n",
    "ksos = [str(y) + l for y in range(1, 5) for l in ks_letters]\n",
    "ksus = ['u1', 'u2']\n",
    "\n",
    "grades = {cl: read_docx_tables(semester+cl+'.docx')[1][:-1]\n",
    "    .replace(grades_from, grades_to) for cl in mng}\n",
    "\n",
    "for cl in ksos:\n",
    "    data = read_docx_tables(semester+cl+'.docx')\n",
    "    if (parts := len(data)//2) > 1:\n",
    "        for i in range(parts):\n",
    "            grades[f'{cl} {i+1}'] = data[2*i+1][:-1].replace(grades_from, grades_to)\n",
    "    else:\n",
    "        grades[cl] = data[1][:-1].replace(grades_from, grades_to)\n",
    "\n",
    "grades |= {cl: read_docx_tables(semester+cl+'.docx')[1][:-1]\n",
    "    .replace(grades_from, grades_to) for cl in ksus}\n",
    "\n",
    "\n",
    "for df in grades.values():\n",
    "    df.drop(columns = df.columns[df.columns.str.startswith('Unnamed')], inplace = True)\n",
    "\n",
    "to_drop = ['Nr', 'Durchschnitt', 'Hpkt', 'Sum.Tpkt', 'Tnot', 'zahl', 'Entscheid', 'Entsch.', '\\n']\n",
    "subjects = ['D ', 'F ', 'I ', 'E ', 'M ', 'Alg ', 'Gm ', 'AM ', 'If ', \n",
    "            'B ', 'Ch ', 'P ', 'G ', 'Gg ', 'BG ', 'Mu ', 'Sp ', 'L ']\n",
    "teachers = {}\n",
    "\n",
    "for cl, df in grades.items():\n",
    "    cols = df.columns.tolist()\n",
    "    teachers[cl] = {}\n",
    "    \n",
    "    for i, cname in enumerate(cols):\n",
    "        s = cname.split(' ')[0]\n",
    "        s += ' '\n",
    "        t = cname[2:]\n",
    "\n",
    "        if s in subjects:\n",
    "            if 'SP' in t:\n",
    "                s = s.strip()+' SP'\n",
    "            df.columns.values[i] = s.strip()\n",
    "            teachers[cl][s.strip()] = [v.strip().split(' ', 1)[0] for v in t.split('/')]\n",
    "        \n",
    "    pos_drop = [i for i, c in enumerate(cols) for x in to_drop if x == c[-len(x):]]\n",
    "    df.drop(df.columns[pos_drop], axis=1, inplace=True)\n",
    "    \n",
    "for df in grades.values():\n",
    "    df.iloc[:, 2:].apply(pd.to_numeric)\n",
    "\n"
   ]
  },
  {
   "cell_type": "code",
   "execution_count": null,
   "metadata": {},
   "outputs": [],
   "source": [
    "mng_drop = {'1': ['Alg', 'Gm', 'BG', 'Mu', 'Sp'],\n",
    "            '2': ['If', 'Sp'],\n",
    "            '3': ['Sp']}\n",
    "\n",
    "ks_drop = {'1p': ['Alg', 'Gm'], '1q 1': ['Sp'], '1q 2': [],\n",
    "            '2p': ['If'], '2q 1': ['If'], '2q 2': ['Sp', 'If'],\n",
    "            '3p': [], '3q 1': [], '3q 2': 'Sp',\n",
    "            '4p': [], '4q 1': ['Sp'], '4q 2': [],\n",
    "            'u1': ['Sp'], 'u2': ['Sp']}"
   ]
  },
  {
   "cell_type": "code",
   "execution_count": null,
   "metadata": {},
   "outputs": [],
   "source": [
    "listu1 = grades['u1'].drop(ks_drop['u1'], axis=1).mean(axis=0)\n",
    "for s, a in zip(listu1.index, listu1):\n",
    "    print(s, a)"
   ]
  },
  {
   "cell_type": "code",
   "execution_count": null,
   "metadata": {},
   "outputs": [],
   "source": [
    "def average_by_subject(grades, subject):\n",
    "    subj_sum = 0\n",
    "    subj_cnt = 0\n",
    "\n",
    "    for cdata in grades.values():\n",
    "        if subject in cdata.columns:\n",
    "            subj_sum += cdata[subject].sum()\n",
    "            subj_cnt += cdata[subject].count()\n",
    "\n",
    "    return subj_sum/subj_cnt\n",
    "\n",
    "\n",
    "for subject in ['D', 'F', 'I', 'M', 'AM', 'AM SP', \n",
    "                'B', 'B SP', 'Ch', 'Ch SP', 'P', 'P SP', 'G', 'Gg', 'If', 'BG', 'Mu', 'BG&Mu ', 'Sp']:\n",
    "    print(f'{subject}: {average_by_subject(grades, subject):.2f}')"
   ]
  },
  {
   "cell_type": "code",
   "execution_count": null,
   "metadata": {},
   "outputs": [],
   "source": [
    "def average_by_subject_and_year(grades, subject, year):\n",
    "    subj_sum = 0\n",
    "    subj_cnt = 0\n",
    "\n",
    "    for cname, cdata in grades.items():\n",
    "        if str(year) == cname[0]:\n",
    "            if subject in cdata.columns:\n",
    "                subj_sum += cdata[subject].sum()\n",
    "                subj_cnt += cdata[subject].count()\n",
    "\n",
    "    if subj_cnt > 0:\n",
    "        return subj_sum/subj_cnt\n",
    "    else:\n",
    "        return 0\n",
    "\n",
    "\n",
    "for subject in ['D', 'F', 'I', 'M', 'AM', 'AM SP', \n",
    "                'B', 'B SP', 'Ch', 'Ch SP', 'P', 'P SP', 'G', 'Gg', 'If', 'BG', 'Mu', 'BG&Mu ', 'Sp']:\n",
    "    av = [average_by_subject_and_year(grades, subject, year) for year in range(1, 4)]\n",
    "    print(f'{subject}: {av[0]:.2f} {av[1]:.2f} {av[2]:.2f}')"
   ]
  },
  {
   "cell_type": "code",
   "execution_count": null,
   "metadata": {},
   "outputs": [],
   "source": [
    "def average_per_teacher(grades, teachers, subject, teacher):\n",
    "    teach_sum = 0\n",
    "    teach_cnt = 0\n",
    "\n",
    "    for cname, cdata in grades.items():\n",
    "        if subject in teachers[cname]:\n",
    "            if teacher in teachers[cname][subject]:\n",
    "                teach_sum += cdata[subject].sum()\n",
    "                teach_cnt += cdata[subject].count()\n",
    "        \n",
    "    if teach_cnt > 0:\n",
    "        return teach_sum/teach_cnt\n",
    "    else:\n",
    "        return 0\n",
    "\n",
    "for teacher in ['ByS', 'HaC', 'KeD', 'KrA', 'LiM', 'ThC', 'WeP']:\n",
    "    print(f'{teacher}: {average_per_teacher(grades, teachers, \"P SP\", teacher):.2f}')\n",
    "\n",
    "print(average_per_teacher(grades, teachers, 'Gg', 'KiR'))"
   ]
  },
  {
   "cell_type": "code",
   "execution_count": null,
   "metadata": {},
   "outputs": [],
   "source": [
    "teachers['1a']"
   ]
  },
  {
   "cell_type": "code",
   "execution_count": null,
   "metadata": {},
   "outputs": [],
   "source": []
  }
 ],
 "metadata": {
  "language_info": {
   "name": "python",
   "pygments_lexer": "ipython3"
  }
 },
 "nbformat": 4,
 "nbformat_minor": 2
}
