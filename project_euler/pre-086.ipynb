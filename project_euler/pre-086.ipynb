{
 "cells": [
  {
   "cell_type": "code",
   "execution_count": 2,
   "metadata": {},
   "outputs": [
    {
     "data": {
      "text/plain": [
       "'\\nProject Euler Problem 086: Cuboid Route\\n'"
      ]
     },
     "execution_count": 2,
     "metadata": {},
     "output_type": "execute_result"
    }
   ],
   "source": [
    "'''\n",
    "Project Euler Problem 086: Cuboid Route\n",
    "'''"
   ]
  },
  {
   "cell_type": "code",
   "execution_count": 3,
   "metadata": {},
   "outputs": [],
   "source": [
    "import sympy as sp"
   ]
  },
  {
   "cell_type": "code",
   "execution_count": 4,
   "metadata": {},
   "outputs": [],
   "source": [
    "a, b, c, x = sp.symbols('a b c x', positive=True)"
   ]
  },
  {
   "cell_type": "code",
   "execution_count": 31,
   "metadata": {},
   "outputs": [],
   "source": [
    "L1 = sp.sqrt((a-x)**2+b**2)+sp.sqrt(x**2+c**2)\n",
    "L2 = sp.sqrt(a**2+(b-x)**2)+sp.sqrt(x**2+c**2)\n",
    "L3 = sp.sqrt((c-x)**2+b**2)+sp.sqrt(x**2+a**2)"
   ]
  },
  {
   "cell_type": "code",
   "execution_count": 32,
   "metadata": {},
   "outputs": [],
   "source": [
    "x1 = sp.solve(sp.Eq(sp.diff(L1, x), 0), x)\n",
    "x2 = sp.solve(sp.Eq(sp.diff(L2, x), 0), x)\n",
    "x3 = sp.solve(sp.Eq(sp.diff(L3, x), 0), x)"
   ]
  },
  {
   "cell_type": "code",
   "execution_count": 33,
   "metadata": {},
   "outputs": [],
   "source": [
    "L1 = L1.subs(x, x1[0]).simplify()\n",
    "L2 = L2.subs(x, x2[0]).simplify()\n",
    "L3 = L3.subs(x, x3[0]).simplify()"
   ]
  },
  {
   "cell_type": "code",
   "execution_count": 44,
   "metadata": {},
   "outputs": [
    {
     "name": "stdout",
     "output_type": "stream",
     "text": [
      "10.0000000000000 10.2956301409870 11.4017542509914\n"
     ]
    }
   ],
   "source": [
    "example = {a: 6, b:5, c:3}\n",
    "\n",
    "print(sp.N(L1.subs(example)), sp.N(L2.subs(example)), sp.N(L3.subs(example)))\n"
   ]
  },
  {
   "cell_type": "code",
   "execution_count": 43,
   "metadata": {},
   "outputs": [
    {
     "data": {
      "text/latex": [
       "$\\displaystyle \\sqrt{a^{2} + \\left(b + c\\right)^{2}}$"
      ],
      "text/plain": [
       "sqrt(a**2 + (b + c)**2)"
      ]
     },
     "execution_count": 43,
     "metadata": {},
     "output_type": "execute_result"
    }
   ],
   "source": [
    "L1"
   ]
  },
  {
   "cell_type": "code",
   "execution_count": 49,
   "metadata": {},
   "outputs": [],
   "source": [
    "Nmax = 100\n",
    "squares = [i**2 for i in range(5*Nmax**2+1)]"
   ]
  },
  {
   "cell_type": "code",
   "execution_count": 51,
   "metadata": {},
   "outputs": [
    {
     "name": "stdout",
     "output_type": "stream",
     "text": [
      "3 4\n",
      "4 3\n",
      "5 12\n",
      "6 8\n",
      "7 24\n",
      "8 6\n",
      "8 15\n",
      "9 12\n",
      "9 40\n",
      "10 24\n",
      "11 60\n",
      "12 5\n",
      "12 9\n",
      "12 16\n",
      "12 35\n",
      "13 84\n",
      "14 48\n",
      "15 8\n",
      "15 20\n",
      "15 36\n",
      "15 112\n",
      "16 12\n",
      "16 30\n",
      "16 63\n",
      "17 144\n",
      "18 24\n",
      "18 80\n",
      "19 180\n",
      "20 15\n",
      "20 21\n",
      "20 48\n",
      "20 99\n",
      "21 20\n",
      "21 28\n",
      "21 72\n",
      "22 120\n",
      "24 7\n",
      "24 10\n",
      "24 18\n",
      "24 32\n",
      "24 45\n",
      "24 70\n",
      "24 143\n",
      "25 60\n",
      "26 168\n",
      "27 36\n",
      "27 120\n",
      "28 21\n",
      "28 45\n",
      "28 96\n",
      "28 195\n",
      "30 16\n",
      "30 40\n",
      "30 72\n",
      "32 24\n",
      "32 60\n",
      "32 126\n",
      "33 44\n",
      "33 56\n",
      "33 180\n",
      "35 12\n",
      "35 84\n",
      "35 120\n",
      "36 15\n",
      "36 27\n",
      "36 48\n",
      "36 77\n",
      "36 105\n",
      "36 160\n",
      "39 52\n",
      "39 80\n",
      "40 9\n",
      "40 30\n",
      "40 42\n",
      "40 75\n",
      "40 96\n",
      "40 198\n",
      "42 40\n",
      "42 56\n",
      "42 144\n",
      "44 33\n",
      "44 117\n",
      "45 24\n",
      "45 28\n",
      "45 60\n",
      "45 108\n",
      "45 200\n",
      "48 14\n",
      "48 20\n",
      "48 36\n",
      "48 55\n",
      "48 64\n",
      "48 90\n",
      "48 140\n",
      "48 189\n",
      "49 168\n",
      "50 120\n",
      "51 68\n",
      "51 140\n",
      "52 39\n",
      "52 165\n",
      "54 72\n",
      "55 48\n",
      "55 132\n",
      "56 33\n",
      "56 42\n",
      "56 90\n",
      "56 105\n",
      "56 192\n",
      "57 76\n",
      "57 176\n",
      "60 11\n",
      "60 25\n",
      "60 32\n",
      "60 45\n",
      "60 63\n",
      "60 80\n",
      "60 91\n",
      "60 144\n",
      "60 175\n",
      "63 16\n",
      "63 60\n",
      "63 84\n",
      "64 48\n",
      "64 120\n",
      "65 72\n",
      "65 156\n",
      "66 88\n",
      "66 112\n",
      "68 51\n",
      "69 92\n",
      "70 24\n",
      "70 168\n",
      "72 21\n",
      "72 30\n",
      "72 54\n",
      "72 65\n",
      "72 96\n",
      "72 135\n",
      "72 154\n",
      "75 40\n",
      "75 100\n",
      "75 180\n",
      "76 57\n",
      "77 36\n",
      "78 104\n",
      "78 160\n",
      "80 18\n",
      "80 39\n",
      "80 60\n",
      "80 84\n",
      "80 150\n",
      "80 192\n",
      "81 108\n",
      "84 13\n",
      "84 35\n",
      "84 63\n",
      "84 80\n",
      "84 112\n",
      "84 135\n",
      "84 187\n",
      "85 132\n",
      "87 116\n",
      "88 66\n",
      "88 105\n",
      "88 165\n",
      "90 48\n",
      "90 56\n",
      "90 120\n",
      "91 60\n",
      "92 69\n",
      "93 124\n",
      "95 168\n",
      "96 28\n",
      "96 40\n",
      "96 72\n",
      "96 110\n",
      "96 128\n",
      "96 180\n",
      "99 20\n",
      "99 132\n",
      "99 168\n",
      "100 75\n",
      "100 105\n"
     ]
    }
   ],
   "source": [
    "for a in range(1, Nmax+1):\n",
    "    for bc in range(1, Nmax*2+1):\n",
    "        if a**2 + bc**2 in squares:\n",
    "            print(a, bc)"
   ]
  },
  {
   "cell_type": "code",
   "execution_count": null,
   "metadata": {},
   "outputs": [],
   "source": []
  }
 ],
 "metadata": {
  "kernelspec": {
   "display_name": "playground",
   "language": "python",
   "name": "python3"
  },
  "language_info": {
   "codemirror_mode": {
    "name": "ipython",
    "version": 3
   },
   "file_extension": ".py",
   "mimetype": "text/x-python",
   "name": "python",
   "nbconvert_exporter": "python",
   "pygments_lexer": "ipython3",
   "version": "3.10.12"
  },
  "orig_nbformat": 4
 },
 "nbformat": 4,
 "nbformat_minor": 2
}
