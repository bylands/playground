{
 "cells": [
  {
   "cell_type": "code",
   "execution_count": 1,
   "metadata": {},
   "outputs": [
    {
     "data": {
      "text/plain": [
       "'\\nProject Euler Problem 068: Magic 5-gon Ring\\n'"
      ]
     },
     "execution_count": 1,
     "metadata": {},
     "output_type": "execute_result"
    }
   ],
   "source": [
    "'''\n",
    "Project Euler Problem 068: Magic 5-gon Ring\n",
    "'''"
   ]
  },
  {
   "cell_type": "code",
   "execution_count": 200,
   "metadata": {},
   "outputs": [],
   "source": [
    "import sympy as sp\n",
    "from itertools import permutations"
   ]
  },
  {
   "cell_type": "code",
   "execution_count": 372,
   "metadata": {},
   "outputs": [],
   "source": [
    "def pick_outer(n, highest, sum, start=1):\n",
    "    # print(start, n, sum)\n",
    "\n",
    "    selection = []\n",
    "    if n == 1:\n",
    "        selection.append([] if sum > highest else [sum])\n",
    "    for value in range(start, min((sum-(n-1)*(n)//2)//n+1, highest)):\n",
    "        if n > 1:\n",
    "            subsets = pick_outer(n-1, highest, sum-value, value+1)\n",
    "            for subset in subsets:\n",
    "                if len(subset) == n-1:\n",
    "                    selection.append([value]+subset)\n",
    "\n",
    "    return selection\n",
    "\n",
    "\n",
    "def complement(xlist, n):\n",
    "    return [x for x in range(1, n+1) if x not in xlist]"
   ]
  },
  {
   "cell_type": "code",
   "execution_count": 519,
   "metadata": {},
   "outputs": [],
   "source": [
    "outer = sp.IndexedBase('o')\n",
    "inner = sp.IndexedBase('i')\n",
    "i = sp.symbols('i', cls=sp.Idx)\n",
    "S = sp.symbols('S')\n",
    "\n",
    "n = 5\n",
    "nleg = 3\n",
    "\n",
    "equations = [sp.Eq(outer[i]+sum([inner[(i+j)%n] for j in range(1, nleg)]), S) for i in range(n)]\n",
    "outers = [outer[i] for i in range(n)]\n",
    "inners = [inner[i] for i in range(n)]\n",
    "solution = sp.solve(equations, inners)"
   ]
  },
  {
   "cell_type": "code",
   "execution_count": 521,
   "metadata": {},
   "outputs": [
    {
     "name": "stdout",
     "output_type": "stream",
     "text": [
      "There are 12 solutions:\n",
      "[[[1, 8, 10], [2, 10, 7], [3, 7, 9], [4, 9, 6], [5, 6, 8]], [[1, 10, 8], [5, 8, 6], [4, 6, 9], [3, 9, 7], [2, 7, 10]], [[1, 6, 10], [3, 10, 4], [5, 4, 8], [7, 8, 2], [9, 2, 6]], [[1, 10, 6], [9, 6, 2], [7, 2, 8], [5, 8, 4], [3, 4, 10]], [[2, 7, 8], [5, 8, 4], [3, 4, 10], [6, 10, 1], [9, 1, 7]], [[2, 8, 7], [9, 7, 1], [6, 1, 10], [3, 10, 4], [5, 4, 8]], [[2, 5, 9], [4, 9, 3], [6, 3, 7], [8, 7, 1], [10, 1, 5]], [[2, 9, 5], [10, 5, 1], [8, 1, 7], [6, 7, 3], [4, 3, 9]], [[2, 4, 10], [5, 10, 1], [8, 1, 7], [6, 7, 3], [9, 3, 4]], [[2, 10, 4], [9, 4, 3], [6, 3, 7], [8, 7, 1], [5, 1, 10]], [[6, 3, 5], [7, 5, 2], [8, 2, 4], [9, 4, 1], [10, 1, 3]], [[6, 5, 3], [10, 3, 1], [9, 1, 4], [8, 4, 2], [7, 2, 5]]]\n",
      "The maximum string with 16 digits has a value 6531031914842725 \n",
      "The maximum string with 17 digits has a value 28797161103104548 \n"
     ]
    }
   ],
   "source": [
    "f_inners = [sp.lambdify(outers, solution[k]) for k in solution]\n",
    "solutions = []\n",
    "\n",
    "for outer_sum in range(1, n*(2*n+1)+1):\n",
    "    inner_sum = n*(2*n+1) - outer_sum\n",
    "    leg_sum = (outer_sum + (nleg-1)*inner_sum)\n",
    "    # print(outer_sum, inner_sum, leg_sum)\n",
    "\n",
    "    if leg_sum % n == 0:\n",
    "        leg_sum //= n\n",
    "        for pick in pick_outer(n, 2*n, outer_sum):\n",
    "            for perm in permutations(pick[1:]):\n",
    "                perm = [pick[0]]+list(perm)\n",
    "                if sorted(pick_inner := [int(f(*perm).subs(S, leg_sum)) for f in f_inners]) == complement(perm, 2*n):\n",
    "                    sol = [[[perm[i%n]]+[pick_inner[(i+j)%n] for j in range(1, nleg)] for i in range(n)]]\n",
    "                    solutions += sol\n",
    "\n",
    "legstrings = [''] * len(solutions)\n",
    "for i, sol in enumerate(solutions):\n",
    "    for leg in sol:\n",
    "        legstrings[i] += ''.join(map(str, leg))\n",
    "\n",
    "print(f'There are {len(solutions)} solutions:')\n",
    "print(solutions)\n",
    "\n",
    "lengths = set([len(s) for s in legstrings])\n",
    "\n",
    "for length in lengths:\n",
    "    legvalues = [int(ls) for ls in legstrings if len(ls) == length]\n",
    "    print(f'The maximum string with {length} digits has a value {max(legvalues)} ')\n"
   ]
  },
  {
   "cell_type": "code",
   "execution_count": null,
   "metadata": {},
   "outputs": [],
   "source": []
  }
 ],
 "metadata": {
  "kernelspec": {
   "display_name": "playground",
   "language": "python",
   "name": "python3"
  },
  "language_info": {
   "codemirror_mode": {
    "name": "ipython",
    "version": 3
   },
   "file_extension": ".py",
   "mimetype": "text/x-python",
   "name": "python",
   "nbconvert_exporter": "python",
   "pygments_lexer": "ipython3",
   "version": "3.10.12"
  },
  "orig_nbformat": 4
 },
 "nbformat": 4,
 "nbformat_minor": 2
}
