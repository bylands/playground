{
 "cells": [
  {
   "cell_type": "code",
   "execution_count": 1,
   "metadata": {},
   "outputs": [
    {
     "data": {
      "text/plain": [
       "'\\nProject Euler Problem 078: Coin Partitions\\n'"
      ]
     },
     "execution_count": 1,
     "metadata": {},
     "output_type": "execute_result"
    }
   ],
   "source": [
    "'''\n",
    "Project Euler Problem 078: Coin Partitions\n",
    "'''"
   ]
  },
  {
   "cell_type": "code",
   "execution_count": 56,
   "metadata": {},
   "outputs": [],
   "source": [
    "from itertools import takewhile, count, cycle"
   ]
  },
  {
   "cell_type": "code",
   "execution_count": 46,
   "metadata": {},
   "outputs": [],
   "source": [
    "def pentagonal(n):\n",
    "    return n*(3*n - 1) / 2\n",
    "\n",
    "\n",
    "def partition(n):\n",
    "    if n <= 1: return 1\n",
    "    if n not in partitions:\n",
    "        signs = cycle([1, 1, -1, -1])\n",
    "        pentagonals = takewhile(lambda p: p <= n, generalized_pentagonals)\n",
    "        partitions[n] = sum(sign * partition(n - p) for sign, p in zip(signs, pentagonals))\n",
    "\n",
    "    return partitions[n]\n"
   ]
  },
  {
   "cell_type": "code",
   "execution_count": 57,
   "metadata": {},
   "outputs": [
    {
     "name": "stdout",
     "output_type": "stream",
     "text": [
      "55374\n"
     ]
    }
   ],
   "source": [
    "partitions = {}\n",
    "generalized_pentagonals = sorted(map(pentagonal, list(range(-250, 250))))[1:]\n",
    "\n",
    "print(next((n for n in count(0) if partition(n) % 1000000 == 0)))"
   ]
  },
  {
   "cell_type": "code",
   "execution_count": 67,
   "metadata": {},
   "outputs": [],
   "source": [
    "def index():\n",
    "    i = 1\n",
    "    if i > 0:\n",
    "        yield i\n",
    "        i *= -1\n",
    "    else:\n",
    "        yield i\n",
    "        i = -i + 1\n",
    "\n",
    "indexgen = index()"
   ]
  },
  {
   "cell_type": "code",
   "execution_count": 68,
   "metadata": {},
   "outputs": [
    {
     "ename": "StopIteration",
     "evalue": "",
     "output_type": "error",
     "traceback": [
      "\u001b[0;31m---------------------------------------------------------------------------\u001b[0m",
      "\u001b[0;31mStopIteration\u001b[0m                             Traceback (most recent call last)",
      "Cell \u001b[0;32mIn[68], line 2\u001b[0m\n\u001b[1;32m      1\u001b[0m \u001b[39mfor\u001b[39;00m i \u001b[39min\u001b[39;00m \u001b[39mrange\u001b[39m(\u001b[39m10\u001b[39m):\n\u001b[0;32m----> 2\u001b[0m     \u001b[39mnext\u001b[39;49m(indexgen)\n",
      "\u001b[0;31mStopIteration\u001b[0m: "
     ]
    }
   ],
   "source": [
    "for i in range(10):\n",
    "    next(indexgen)"
   ]
  },
  {
   "cell_type": "code",
   "execution_count": null,
   "metadata": {},
   "outputs": [],
   "source": []
  }
 ],
 "metadata": {
  "kernelspec": {
   "display_name": "playground",
   "language": "python",
   "name": "python3"
  },
  "language_info": {
   "codemirror_mode": {
    "name": "ipython",
    "version": 3
   },
   "file_extension": ".py",
   "mimetype": "text/x-python",
   "name": "python",
   "nbconvert_exporter": "python",
   "pygments_lexer": "ipython3",
   "version": "3.10.12"
  }
 },
 "nbformat": 4,
 "nbformat_minor": 2
}
