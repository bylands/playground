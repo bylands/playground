{
 "cells": [
  {
   "cell_type": "code",
   "execution_count": null,
   "metadata": {},
   "outputs": [],
   "source": [
    "'''\n",
    "Project Euler Problem 069: Totient Permutation\n",
    "'''"
   ]
  },
  {
   "cell_type": "code",
   "execution_count": 1,
   "metadata": {},
   "outputs": [],
   "source": [
    "from sympy import sieve"
   ]
  },
  {
   "cell_type": "code",
   "execution_count": 3,
   "metadata": {},
   "outputs": [
    {
     "name": "stdout",
     "output_type": "stream",
     "text": [
      "The totient permutation with the lowest ratio 1.000009005601484 is for 999387\n"
     ]
    }
   ],
   "source": [
    "Nmax = 1000000\n",
    "totients = sieve.totientrange(2, Nmax)\n",
    "\n",
    "nmax = 1\n",
    "ratio_min = 10\n",
    "\n",
    "for i, t in enumerate(totients, 2):\n",
    "    if sorted(list(str(i))) == sorted(list(str(t))):\n",
    "        if i/t < ratio_min:\n",
    "            ratio_min = i/t\n",
    "            nmax = i\n",
    "\n",
    "print(f'The totient permutation with the lowest ratio {ratio_min} is for {nmax}')\n",
    "\n",
    "\n"
   ]
  },
  {
   "cell_type": "code",
   "execution_count": null,
   "metadata": {},
   "outputs": [],
   "source": []
  }
 ],
 "metadata": {
  "kernelspec": {
   "display_name": "playground",
   "language": "python",
   "name": "python3"
  },
  "language_info": {
   "codemirror_mode": {
    "name": "ipython",
    "version": 3
   },
   "file_extension": ".py",
   "mimetype": "text/x-python",
   "name": "python",
   "nbconvert_exporter": "python",
   "pygments_lexer": "ipython3",
   "version": "3.10.12"
  }
 },
 "nbformat": 4,
 "nbformat_minor": 2
}
