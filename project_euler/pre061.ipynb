{
 "cells": [
  {
   "cell_type": "code",
   "execution_count": null,
   "metadata": {},
   "outputs": [],
   "source": [
    "'''\n",
    "Project Euler Problem 061: Cyclical Figurate Numbers\n",
    "'''"
   ]
  },
  {
   "cell_type": "code",
   "execution_count": null,
   "metadata": {},
   "outputs": [],
   "source": [
    "from itertools import permutations"
   ]
  },
  {
   "cell_type": "code",
   "execution_count": null,
   "metadata": {},
   "outputs": [],
   "source": [
    "def triangle(n):\n",
    "    return n*(n+1)//2\n",
    "\n",
    "\n",
    "def square(n):\n",
    "    return n*n\n",
    "\n",
    "\n",
    "def pentagonal(n):\n",
    "    return n*(3*n-1)//2\n",
    "\n",
    "\n",
    "def hexagonal(n):\n",
    "    return n*(2*n-1)\n",
    "\n",
    "\n",
    "def heptagonal(n):\n",
    "    return n*(5*n-3)//2\n",
    "\n",
    "\n",
    "def octagonal(n):\n",
    "    return n*(3*n-2)"
   ]
  },
  {
   "cell_type": "code",
   "execution_count": null,
   "metadata": {},
   "outputs": [],
   "source": [
    "Nmin = 1000\n",
    "Nmax = 10000\n",
    "\n",
    "tri_set = [str(triangle(i)) for i in range(1, 250) if triangle(i) > Nmin and triangle(i) < Nmax]\n",
    "sq_set = [str(square(i)) for i in range(1, 250) if square(i) > Nmin and square(i) < Nmax]\n",
    "pent_set = [str(pentagonal(i)) for i in range(1, 250) if pentagonal(i) > Nmin and pentagonal(i) < Nmax]\n",
    "hex_set = [str(hexagonal(i)) for i in range(1, 250) if hexagonal(i) > Nmin and hexagonal(i) < Nmax]\n",
    "hept_set = [str(heptagonal(i)) for i in range(1, 250) if heptagonal(i) > Nmin and heptagonal(i) < Nmax]\n",
    "oct_set = [str(octagonal(i)) for i in range(1, 250) if octagonal(i) > Nmin and octagonal(i) < Nmax]"
   ]
  },
  {
   "cell_type": "code",
   "execution_count": null,
   "metadata": {},
   "outputs": [],
   "source": [
    "def loop(t):\n",
    "    for s in sets:\n",
    "        subset = [n for n in s if n.startswith(t[2:])]\n",
    "        if len(subset):\n",
    "            if len(sets) == 1:\n",
    "                print(subset)\n",
    "                return True\n",
    "            sets.pop(sets.index(s))\n",
    "            for sub in subset:\n",
    "                if loop(sub):\n",
    "                    print(t)\n",
    "            sets.append(s)\n",
    "    return False\n",
    "\n",
    "    \n"
   ]
  },
  {
   "cell_type": "code",
   "execution_count": null,
   "metadata": {},
   "outputs": [],
   "source": [
    "sets = [oct_set, hept_set, hex_set, pent_set, sq_set, tri_set]\n",
    "\n",
    "for perm in permutations(sets):\n",
    "        for p in perm:\n",
    "            if \n",
    "for i in range(N):\n",
    "    for t in tri_set:\n",
    "        "
   ]
  },
  {
   "cell_type": "code",
   "execution_count": null,
   "metadata": {},
   "outputs": [],
   "source": [
    "sets = [tri_set, sq_set, pent_set, hex_set, hept_set]\n",
    "\n",
    "len(list(permutations(sets))[0])"
   ]
  },
  {
   "cell_type": "code",
   "execution_count": null,
   "metadata": {},
   "outputs": [],
   "source": [
    "for item in product(tri_set, sq_set, pent_set, hex_set, hept_set, oct_set):\n",
    "    first_half = [x[:2] for x in item]"
   ]
  },
  {
   "cell_type": "code",
   "execution_count": null,
   "metadata": {},
   "outputs": [],
   "source": [
    "sets = [tri_set, sq_set, pent_set, hex_set, hept_set, oct_set]"
   ]
  },
  {
   "cell_type": "code",
   "execution_count": null,
   "metadata": {},
   "outputs": [],
   "source": [
    "heads = {}\n",
    "tails = {}\n",
    "for i, s in enumerate(sets, 3):\n",
    "    heads[i] = set([x[:2] for x in s])\n",
    "    tails[i] = set([x[2:] for x in s])"
   ]
  },
  {
   "cell_type": "code",
   "execution_count": null,
   "metadata": {},
   "outputs": [],
   "source": [
    "tails[8]"
   ]
  },
  {
   "cell_type": "code",
   "execution_count": null,
   "metadata": {},
   "outputs": [],
   "source": []
  }
 ],
 "metadata": {
  "language_info": {
   "name": "python",
   "pygments_lexer": "ipython3"
  }
 },
 "nbformat": 4,
 "nbformat_minor": 2
}
