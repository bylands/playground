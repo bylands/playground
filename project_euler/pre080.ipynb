{
 "cells": [
  {
   "cell_type": "code",
   "execution_count": 1,
   "metadata": {},
   "outputs": [
    {
     "data": {
      "text/plain": [
       "'\\nProject Euler Problem 080: Square Root Digital Expansion\\n'"
      ]
     },
     "execution_count": 1,
     "metadata": {},
     "output_type": "execute_result"
    }
   ],
   "source": [
    "'''\n",
    "Project Euler Problem 080: Square Root Digital Expansion\n",
    "'''"
   ]
  },
  {
   "cell_type": "code",
   "execution_count": 85,
   "metadata": {},
   "outputs": [],
   "source": [
    "def sqrt_digits(x, ndigits):\n",
    "    c = x\n",
    "    s = 0\n",
    "    \n",
    "    for i in range(ndigits):\n",
    "        d, r = get_digit(c, s)\n",
    "        c = (c-r) * 100\n",
    "        s = 10*s + d\n",
    "        if c == 0:\n",
    "            break\n",
    "\n",
    "    return s\n",
    "\n",
    "\n",
    "def get_digit(c, s):\n",
    "    vret = 0\n",
    "    for i in range(1, 11):\n",
    "        if (v := i*(20*s+i)) > c:\n",
    "            return i-1, vret\n",
    "        vret = v\n",
    "    print('Something went wrong with the algorithm!')\n",
    "    return False, False"
   ]
  },
  {
   "cell_type": "code",
   "execution_count": 154,
   "metadata": {},
   "outputs": [
    {
     "name": "stdout",
     "output_type": "stream",
     "text": [
      "For the first 100 natural numbers, the total of the digital sums of the first 100 digits\n",
      "for all irrational square roots is equal to 40886\n"
     ]
    }
   ],
   "source": [
    "Nmax = 100\n",
    "ndigits = 100\n",
    "\n",
    "sqrt_str = (str(sqrt_digits(i, ndigits)) for i in range(1, Nmax))\n",
    "\n",
    "sum_irr = sum(sum(map(int, s)) for s in sqrt_str if len(s)==ndigits)\n",
    "\n",
    "print(f'For the first {Nmax} natural numbers, the total of the digital sums of the first {ndigits} digits')\n",
    "print(f'for all irrational square roots is equal to {sum_irr}')"
   ]
  },
  {
   "cell_type": "code",
   "execution_count": null,
   "metadata": {},
   "outputs": [],
   "source": []
  }
 ],
 "metadata": {
  "kernelspec": {
   "display_name": "playground",
   "language": "python",
   "name": "python3"
  },
  "language_info": {
   "codemirror_mode": {
    "name": "ipython",
    "version": 3
   },
   "file_extension": ".py",
   "mimetype": "text/x-python",
   "name": "python",
   "nbconvert_exporter": "python",
   "pygments_lexer": "ipython3",
   "version": "3.10.12"
  },
  "orig_nbformat": 4
 },
 "nbformat": 4,
 "nbformat_minor": 2
}
