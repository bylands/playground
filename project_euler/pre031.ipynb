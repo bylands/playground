{
 "cells": [
  {
   "cell_type": "code",
   "execution_count": null,
   "metadata": {},
   "outputs": [],
   "source": [
    "'''\n",
    "Project Euler Problem 031: Coin Sums\n",
    "'''"
   ]
  },
  {
   "cell_type": "code",
   "execution_count": null,
   "metadata": {},
   "outputs": [],
   "source": [
    "import copy\n",
    "import itertools"
   ]
  },
  {
   "cell_type": "code",
   "execution_count": null,
   "metadata": {},
   "outputs": [],
   "source": [
    "def coins(values, total, sol=None, solutions=None):\n",
    "    if solutions is None:\n",
    "        solutions = []\n",
    "    if sol is None:\n",
    "        sol = []\n",
    "\n",
    "    for c in values:\n",
    "        sol.append(c)\n",
    "        sumsol = sum(sol)\n",
    "        if sumsol == total:\n",
    "            # print('value matched', sol)\n",
    "            solutions.append(copy.deepcopy(sol))\n",
    "            sol.pop()\n",
    "        elif sumsol > total:\n",
    "            # print('invalid combination', sol)\n",
    "            sol.pop()\n",
    "        else:\n",
    "            coins(values, total, sol, solutions)\n",
    "            sol.pop()\n",
    "    \n",
    "    return solutions"
   ]
  },
  {
   "cell_type": "code",
   "execution_count": null,
   "metadata": {},
   "outputs": [],
   "source": [
    "solutions = coins([1, 2, 5, 10, 20, 50, 100, 200], 200)\n",
    "solutions = sorted([sorted(sol) for sol in solutions])\n",
    "solutions = list(k for k,_ in itertools.groupby(solutions))\n",
    "\n",
    "solutions"
   ]
  },
  {
   "cell_type": "code",
   "execution_count": null,
   "metadata": {},
   "outputs": [],
   "source": [
    "solutions"
   ]
  },
  {
   "cell_type": "code",
   "execution_count": null,
   "metadata": {},
   "outputs": [],
   "source": []
  }
 ],
 "metadata": {
  "language_info": {
   "name": "python",
   "pygments_lexer": "ipython3"
  }
 },
 "nbformat": 4,
 "nbformat_minor": 2
}
