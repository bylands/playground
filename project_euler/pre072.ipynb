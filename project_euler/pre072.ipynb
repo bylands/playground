{
 "cells": [
  {
   "cell_type": "code",
   "execution_count": 1,
   "metadata": {},
   "outputs": [
    {
     "data": {
      "text/plain": [
       "'\\nProject Euler Problem 072: Counting Fractions\\n'"
      ]
     },
     "execution_count": 1,
     "metadata": {},
     "output_type": "execute_result"
    }
   ],
   "source": [
    "'''\n",
    "Project Euler Problem 072: Counting Fractions\n",
    "'''"
   ]
  },
  {
   "cell_type": "code",
   "execution_count": 7,
   "metadata": {},
   "outputs": [],
   "source": [
    "import math\n",
    "import sympy as sp"
   ]
  },
  {
   "cell_type": "code",
   "execution_count": 8,
   "metadata": {},
   "outputs": [],
   "source": [
    "def gcd(a, b):\n",
    " \n",
    "    if (a == 0):\n",
    "        return b\n",
    "    return gcd(b % a, a)\n",
    "\n",
    "\n",
    "def reduced(num, den):\n",
    "    g = gcd(num, den)\n",
    "    return num//g, den//g\n",
    "\n",
    "\n",
    "def compare(n1, d1, n2, d2):\n",
    "    check = n1*d2 - n2*d1\n",
    "    if check > 0:\n",
    "        return 1\n",
    "    if check < 0:\n",
    "        return -1\n",
    "    else:\n",
    "        return 0"
   ]
  },
  {
   "cell_type": "code",
   "execution_count": 39,
   "metadata": {},
   "outputs": [
    {
     "name": "stdout",
     "output_type": "stream",
     "text": [
      "3043\n"
     ]
    }
   ],
   "source": [
    "dmax = 100\n",
    "\n",
    "count = 0\n",
    "for d in range(1, dmax+1):\n",
    "    for n in range(1, d):\n",
    "        if math.gcd(n, d) == 1:\n",
    "            count += 1\n",
    "\n",
    "print(count)\n"
   ]
  },
  {
   "cell_type": "code",
   "execution_count": 48,
   "metadata": {},
   "outputs": [
    {
     "name": "stdout",
     "output_type": "stream",
     "text": [
      "The number of reduced fractions with d < 1000000 is 303963552391\n"
     ]
    }
   ],
   "source": [
    "dmax = 1000000\n",
    "\n",
    "solution = sum(sp.sieve.totientrange(2, dmax+1))\n",
    "\n",
    "print(f'The number of reduced fractions with d < {dmax} is {solution}')"
   ]
  },
  {
   "cell_type": "code",
   "execution_count": null,
   "metadata": {},
   "outputs": [],
   "source": []
  }
 ],
 "metadata": {
  "kernelspec": {
   "display_name": "playground",
   "language": "python",
   "name": "python3"
  },
  "language_info": {
   "codemirror_mode": {
    "name": "ipython",
    "version": 3
   },
   "file_extension": ".py",
   "mimetype": "text/x-python",
   "name": "python",
   "nbconvert_exporter": "python",
   "pygments_lexer": "ipython3",
   "version": "3.10.12"
  }
 },
 "nbformat": 4,
 "nbformat_minor": 2
}
