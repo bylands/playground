{
 "cells": [
  {
   "cell_type": "code",
   "execution_count": null,
   "metadata": {},
   "outputs": [],
   "source": [
    "'''\n",
    "Project Euler Problem 071: Ordered Fractions\n",
    "'''"
   ]
  },
  {
   "cell_type": "code",
   "execution_count": null,
   "metadata": {},
   "outputs": [],
   "source": [
    "def gcd(a, b):\n",
    " \n",
    "    if (a == 0):\n",
    "        return b\n",
    "    return gcd(b % a, a)\n",
    "\n",
    "\n",
    "def reduced(num, den):\n",
    "    g = gcd(num, den)\n",
    "    return num//g, den//g"
   ]
  },
  {
   "cell_type": "code",
   "execution_count": null,
   "metadata": {},
   "outputs": [],
   "source": [
    "for dmax in range(10, 100, 7):\n",
    "    # dmax = 2000\n",
    "    fractions = list(set([reduced(num, den) for den in range(2, dmax+1) for num in range(1, den)]))\n",
    "    fractions = sorted(fractions, key=lambda x: x[0]/x[1])\n",
    "\n",
    "    print(dmax, fractions[fractions.index((3, 7))-1])"
   ]
  },
  {
   "cell_type": "code",
   "execution_count": null,
   "metadata": {},
   "outputs": [],
   "source": []
  }
 ],
 "metadata": {
  "language_info": {
   "name": "python",
   "pygments_lexer": "ipython3"
  }
 },
 "nbformat": 4,
 "nbformat_minor": 2
}
