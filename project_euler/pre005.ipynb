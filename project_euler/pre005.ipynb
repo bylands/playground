{
 "cells": [
  {
   "cell_type": "code",
   "execution_count": null,
   "metadata": {},
   "outputs": [],
   "source": [
    "'''\n",
    "Project Euler Problem 002\n",
    "'''"
   ]
  },
  {
   "cell_type": "code",
   "execution_count": null,
   "metadata": {},
   "outputs": [],
   "source": [
    "import numpy as np"
   ]
  },
  {
   "cell_type": "code",
   "execution_count": null,
   "metadata": {},
   "outputs": [],
   "source": [
    "N = 20\n",
    "\n",
    "N_list = list(range(N+1))\n",
    "\n",
    "lcm = 1\n",
    "\n",
    "for i in range(2, N+1):\n",
    "    if N_list[i] > 1:\n",
    "        lcm *= N_list[i]\n",
    "        for j in range(2*i, N+1, i):\n",
    "            N_list[j] = N_list[j]//N_list[i]\n",
    "        N_list[i] = 1\n",
    "\n",
    "print(f'smallest number than can be divided by each of the numbers from 1 to {N}: {lcm}')\n"
   ]
  },
  {
   "cell_type": "code",
   "execution_count": null,
   "metadata": {},
   "outputs": [],
   "source": []
  }
 ],
 "metadata": {
  "language_info": {
   "name": "python",
   "pygments_lexer": "ipython3"
  }
 },
 "nbformat": 4,
 "nbformat_minor": 2
}
