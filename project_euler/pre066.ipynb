{
 "cells": [
  {
   "cell_type": "code",
   "execution_count": null,
   "metadata": {},
   "outputs": [],
   "source": [
    "'''\n",
    "Project Euler Problem 066: Diophantine Equation\n",
    "'''"
   ]
  },
  {
   "cell_type": "code",
   "execution_count": 2,
   "metadata": {},
   "outputs": [],
   "source": [
    "from itertools import cycle\n",
    "from math import isqrt"
   ]
  },
  {
   "cell_type": "code",
   "execution_count": 22,
   "metadata": {},
   "outputs": [],
   "source": [
    "def is_square(n):\n",
    "    if isqrt(n)**2 == n:\n",
    "        return True\n",
    "    else:\n",
    "        return False\n",
    "\n",
    "\n",
    "def get_next_term(n, r, d):\n",
    "    nfl = isqrt(n)\n",
    "    denom = (n - r*r)//d\n",
    "    a = int((n**0.5+r)/denom)\n",
    "    rest = denom*a - r\n",
    "    return (a, rest, denom)\n",
    "\n",
    "\n",
    "def approx(sequence, index=0):\n",
    "    if index < len(sequence)-1:\n",
    "        den, num = approx(sequence, index+1)\n",
    "        return (sequence[index]*den+num, den)\n",
    "    else:\n",
    "        return (sequence[index], 1)\n",
    "\n",
    "\n",
    "def approx_loop(sequence):\n",
    "    num, den = 0, 1\n",
    "    for i in sequence[::-1]:\n",
    "        den, num = i*den+num, den\n",
    "    return den, num\n",
    "\n",
    "\n",
    "def diophantine(n):\n",
    "    a = isqrt(n)\n",
    "    r = a\n",
    "    d = 1\n",
    "    contfrac = [(a, r, d)]\n",
    "    while (terms := get_next_term(n, r, d)) not in contfrac:\n",
    "        contfrac += [terms]\n",
    "        a, r, d = terms\n",
    "\n",
    "    a_list = [a[0] for a in contfrac]\n",
    "    N_per = len(contfrac) - contfrac.index(terms)\n",
    "    head = len(contfrac) - N_per\n",
    "\n",
    "    if N_per % 2 == 0:\n",
    "        N = N_per\n",
    "    else:\n",
    "        N = 2 * N_per\n",
    "\n",
    "    period = cycle(a_list[head:])\n",
    "    sequence = a_list[:head] + [next(period) for i in range(N-head)]\n",
    "    num, den = approx(sequence)\n",
    "    return num, den\n",
    "\n"
   ]
  },
  {
   "cell_type": "code",
   "execution_count": 25,
   "metadata": {},
   "outputs": [
    {
     "name": "stdout",
     "output_type": "stream",
     "text": [
      "The largest value for x is 9138623307350640837938507246130056541284450249628186652711211526290141593088447074959889691586109808446586788487329855457947449359122812196406183471094085243300140113776722320673519989258197664615506581635543258793642137960637895993371068043922291726707457424732865511811603416709407607285667077345150397643032877987726841522351750655900253781916899660152174806370963781778224969807395941841736594668461346490187409918540644500596164105739747237839541686461147582701486262272823400803243678345216257264359841059899047944315969645240323636858831783554703663860186919961543958325467259751629633944639211198469786177829884186709831569216425531620090438319686256712276877552760998820897069126292769743115626179169131031894821449 for D = 92821.\n",
      "9138623307350640837938507246130056541284450249628186652711211526290141593088447074959889691586109808446586788487329855457947449359122812196406183471094085243300140113776722320673519989258197664615506581635543258793642137960637895993371068043922291726707457424732865511811603416709407607285667077345150397643032877987726841522351750655900253781916899660152174806370963781778224969807395941841736594668461346490187409918540644500596164105739747237839541686461147582701486262272823400803243678345216257264359841059899047944315969645240323636858831783554703663860186919961543958325467259751629633944639211198469786177829884186709831569216425531620090438319686256712276877552760998820897069126292769743115626179169131031894821449^2-92821 x 29995606985908278391394125599135320972040960690735594014932999302562021607917845625308781046774668965028391500344676078764117785968987025596642346687378667667268554217805689486419938846247966636235622466824853671443727025761340681500617596724921086840802447598463611192953164168684707145263201173090354218890224078617132621981270144387271894050379162839910605924620561997843353743092508084766465038567232036892276652930541497664634108271302723027950641070447197899109815123567584348859003464872979489356061130456764804964145771699318883015346111831572404557647659469760522059443590269944115798752448599110602793086535348170280145151753392282563680433826089979371590683960862942643266548255841329663100421901070962552821740^2 = 1\n"
     ]
    }
   ],
   "source": [
    "Nmax = 100000\n",
    "nonsquares = [i for i in range(2, Nmax+1) if not is_square(i)]\n",
    "\n",
    "xmax = 0\n",
    "Dmax = 2\n",
    "minima = {}\n",
    "\n",
    "for D in nonsquares:\n",
    "    x, y = diophantine(D)\n",
    "    minima[D] = (x, y)\n",
    "    if x > xmax:\n",
    "        xmax = x\n",
    "        Dmax = D\n",
    "\n",
    "print(f'The largest value for x is {xmax} for D = {Dmax}.')\n",
    "print(f'{minima[Dmax][0]}^2-{Dmax} x {minima[Dmax][1]}^2 = 1')"
   ]
  },
  {
   "cell_type": "code",
   "execution_count": null,
   "metadata": {},
   "outputs": [],
   "source": []
  }
 ],
 "metadata": {
  "kernelspec": {
   "display_name": "playground",
   "language": "python",
   "name": "python3"
  },
  "language_info": {
   "codemirror_mode": {
    "name": "ipython",
    "version": 3
   },
   "file_extension": ".py",
   "mimetype": "text/x-python",
   "name": "python",
   "nbconvert_exporter": "python",
   "pygments_lexer": "ipython3",
   "version": "3.10.12"
  }
 },
 "nbformat": 4,
 "nbformat_minor": 2
}
