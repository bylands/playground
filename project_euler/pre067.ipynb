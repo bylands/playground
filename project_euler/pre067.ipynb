{
 "cells": [
  {
   "cell_type": "code",
   "execution_count": 1,
   "metadata": {},
   "outputs": [
    {
     "data": {
      "text/plain": [
       "'\\nProject Euler Problem 067: Maximum Path Sum II\\n'"
      ]
     },
     "execution_count": 1,
     "metadata": {},
     "output_type": "execute_result"
    }
   ],
   "source": [
    "'''\n",
    "Project Euler Problem 067: Maximum Path Sum II\n",
    "'''"
   ]
  },
  {
   "cell_type": "code",
   "execution_count": 2,
   "metadata": {},
   "outputs": [],
   "source": [
    "import csv"
   ]
  },
  {
   "cell_type": "code",
   "execution_count": 11,
   "metadata": {},
   "outputs": [],
   "source": [
    "with open('euler_ressources/0067_triangle.txt') as csvfile:\n",
    "    rows = [list(map(int, row)) for row in csv.reader(csvfile, delimiter=' ')]"
   ]
  },
  {
   "cell_type": "code",
   "execution_count": 13,
   "metadata": {},
   "outputs": [
    {
     "name": "stdout",
     "output_type": "stream",
     "text": [
      "The maximum sum is 7273.\n"
     ]
    }
   ],
   "source": [
    "'''\n",
    "Bottom-up: Add higher value from bottom to top\n",
    "'''\n",
    "\n",
    "N = len(rows)\n",
    "# N = 4\n",
    "\n",
    "for i in range(N-2, -1, -1):\n",
    "    for j in range(i+1):\n",
    "        rows[i][j] += max(rows[i+1][j], rows[i+1][j+1])\n",
    "\n",
    "print(f'The maximum sum is {rows[0][0]}.')"
   ]
  },
  {
   "cell_type": "code",
   "execution_count": null,
   "metadata": {},
   "outputs": [],
   "source": []
  }
 ],
 "metadata": {
  "kernelspec": {
   "display_name": "playground",
   "language": "python",
   "name": "python3"
  },
  "language_info": {
   "codemirror_mode": {
    "name": "ipython",
    "version": 3
   },
   "file_extension": ".py",
   "mimetype": "text/x-python",
   "name": "python",
   "nbconvert_exporter": "python",
   "pygments_lexer": "ipython3",
   "version": "3.10.12"
  }
 },
 "nbformat": 4,
 "nbformat_minor": 2
}
