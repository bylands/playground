{
 "cells": [
  {
   "cell_type": "code",
   "execution_count": 1,
   "metadata": {},
   "outputs": [
    {
     "data": {
      "text/plain": [
       "'\\nProject Euler Problem 074: Digit Factorial Chain\\n'"
      ]
     },
     "execution_count": 1,
     "metadata": {},
     "output_type": "execute_result"
    }
   ],
   "source": [
    "'''\n",
    "Project Euler Problem 074: Digit Factorial Chain\n",
    "'''"
   ]
  },
  {
   "cell_type": "code",
   "execution_count": 2,
   "metadata": {},
   "outputs": [],
   "source": [
    "from math import factorial, log10"
   ]
  },
  {
   "cell_type": "code",
   "execution_count": 33,
   "metadata": {},
   "outputs": [],
   "source": [
    "def facsum(n):\n",
    "    nstr = str(n)\n",
    "    return sum([factorial(int(i)) for i in nstr])\n",
    "\n",
    "\n",
    "def chain(n):\n",
    "    ch = [n]\n",
    "    while (f:=facsum(ch[-1])) not in ch:\n",
    "        ch.append(f)\n",
    "    # print(ch)\n",
    "    return len(ch)\n",
    "    "
   ]
  },
  {
   "cell_type": "code",
   "execution_count": 41,
   "metadata": {},
   "outputs": [
    {
     "name": "stdout",
     "output_type": "stream",
     "text": [
      "There are 402 chains with exactly 60 non-repeating terms.\n"
     ]
    }
   ],
   "source": [
    "Nmax = 1000000\n",
    "lenmax = 60\n",
    "\n",
    "count = 0\n",
    "\n",
    "for i in range(Nmax):\n",
    "    if chain(i) == lenmax:\n",
    "        count += 1\n",
    "\n",
    "print(f'There are {count} chains with exactly {lenmax} non-repeating terms.')"
   ]
  },
  {
   "cell_type": "code",
   "execution_count": null,
   "metadata": {},
   "outputs": [],
   "source": []
  }
 ],
 "metadata": {
  "kernelspec": {
   "display_name": "playground",
   "language": "python",
   "name": "python3"
  },
  "language_info": {
   "codemirror_mode": {
    "name": "ipython",
    "version": 3
   },
   "file_extension": ".py",
   "mimetype": "text/x-python",
   "name": "python",
   "nbconvert_exporter": "python",
   "pygments_lexer": "ipython3",
   "version": "3.10.12"
  },
  "orig_nbformat": 4
 },
 "nbformat": 4,
 "nbformat_minor": 2
}
