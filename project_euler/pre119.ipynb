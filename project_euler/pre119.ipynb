{
 "cells": [
  {
   "cell_type": "code",
   "execution_count": 23,
   "metadata": {},
   "outputs": [
    {
     "data": {
      "text/plain": [
       "'\\nProject Euler Problem 119: Digit Power Sum\\n'"
      ]
     },
     "execution_count": 23,
     "metadata": {},
     "output_type": "execute_result"
    }
   ],
   "source": [
    "'''\n",
    "Project Euler Problem 119: Digit Power Sum\n",
    "'''"
   ]
  },
  {
   "cell_type": "code",
   "execution_count": 24,
   "metadata": {},
   "outputs": [],
   "source": [
    "from math import log10"
   ]
  },
  {
   "cell_type": "code",
   "execution_count": 39,
   "metadata": {},
   "outputs": [],
   "source": [
    "def digsum(n):\n",
    "    return sum(int(s) for s in str(n))\n",
    "\n",
    "\n",
    "def digsumpower(n):\n",
    "    ds = digsum(n)\n",
    "    if ds < 2:\n",
    "        return False\n",
    "    x = int(log10(n)/log10(ds))\n",
    "    if ds**x == n:\n",
    "        return x\n",
    "    else:\n",
    "        return False"
   ]
  },
  {
   "cell_type": "code",
   "execution_count": 43,
   "metadata": {},
   "outputs": [
    {
     "name": "stdout",
     "output_type": "stream",
     "text": [
      "(8, 3, 512) (28, 4, 614656) (117, 10, 480682838924478847449)\n"
     ]
    }
   ],
   "source": [
    "Nmax = 1000\n",
    "pmax = 100\n",
    "\n",
    "powerlist = []\n",
    "for i in range(2, Nmax):\n",
    "    for j in range(2, pmax):\n",
    "        if digsum(i**j) == i:\n",
    "            powerlist += [(i, j, i**j)]\n",
    "\n",
    "powerlist = sorted(powerlist, key=lambda x: x[2])\n",
    "            "
   ]
  },
  {
   "cell_type": "code",
   "execution_count": 52,
   "metadata": {},
   "outputs": [
    {
     "name": "stdout",
     "output_type": "stream",
     "text": [
      "(8, 3, 512) (28, 4, 614656) (163, 16, 248314265639726167358751235626296641)\n"
     ]
    }
   ],
   "source": [
    "print(powerlist[1], powerlist[9], powerlist[69])"
   ]
  },
  {
   "cell_type": "code",
   "execution_count": 33,
   "metadata": {},
   "outputs": [
    {
     "data": {
      "text/plain": [
       "15752961"
      ]
     },
     "execution_count": 33,
     "metadata": {},
     "output_type": "execute_result"
    }
   ],
   "source": [
    "63**4"
   ]
  },
  {
   "cell_type": "code",
   "execution_count": 53,
   "metadata": {},
   "outputs": [
    {
     "name": "stdout",
     "output_type": "stream",
     "text": [
      "248314265639726167358751235626296641\n"
     ]
    }
   ],
   "source": [
    "max_digits=50 # Finds all terms with <= 20 digits\n",
    "maxval=10**max_digits\n",
    "found =[]\n",
    "for sod in range(2,9*max_digits):\n",
    "    x=sod\n",
    "    while x < maxval:\n",
    "        if sum(int(i) for i in str(x)) == sod:\n",
    "            if x>10: found.append(x)\n",
    "        x*=sod\n",
    "\n",
    "found.sort()\n",
    "print(found[69])"
   ]
  },
  {
   "cell_type": "code",
   "execution_count": null,
   "metadata": {},
   "outputs": [],
   "source": []
  }
 ],
 "metadata": {
  "kernelspec": {
   "display_name": "playground",
   "language": "python",
   "name": "python3"
  },
  "language_info": {
   "codemirror_mode": {
    "name": "ipython",
    "version": 3
   },
   "file_extension": ".py",
   "mimetype": "text/x-python",
   "name": "python",
   "nbconvert_exporter": "python",
   "pygments_lexer": "ipython3",
   "version": "3.10.12"
  },
  "orig_nbformat": 4
 },
 "nbformat": 4,
 "nbformat_minor": 2
}
