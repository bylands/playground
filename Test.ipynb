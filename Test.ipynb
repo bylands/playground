{
 "cells": [
  {
   "cell_type": "code",
   "execution_count": null,
   "metadata": {},
   "outputs": [],
   "source": [
    "import pandas as pd"
   ]
  },
  {
   "cell_type": "code",
   "execution_count": null,
   "metadata": {},
   "outputs": [],
   "source": [
    "klassen = pd.read_excel('~/Desktop/3. Klassen 21-22.xlsx', header=4, sheet_name = None)\n",
    "klassen = [klassen[i] for i in ['3a', '3b', '3c', '3d', '3e', '3f', '3g', '3h']]\n",
    "klassen"
   ]
  },
  {
   "cell_type": "code",
   "execution_count": null,
   "metadata": {},
   "outputs": [],
   "source": [
    "[k3a, k3b, k3c, k3d, k3e, k3f, k3g, k3h] = [klassen[i] for i in ['3a', '3b', '3c', '3d', '3e', '3f', '3g', '3h']]"
   ]
  },
  {
   "cell_type": "code",
   "execution_count": null,
   "metadata": {},
   "outputs": [],
   "source": [
    "titanic = pd.read_csv('Desktop/titanic.csv', index_col='PassengerId')"
   ]
  },
  {
   "cell_type": "code",
   "execution_count": null,
   "metadata": {},
   "outputs": [],
   "source": [
    "titanic.loc[100:110, 'Name':'Age']"
   ]
  },
  {
   "cell_type": "code",
   "execution_count": null,
   "metadata": {},
   "outputs": [],
   "source": [
    "titanic.columns"
   ]
  },
  {
   "cell_type": "code",
   "execution_count": null,
   "metadata": {},
   "outputs": [],
   "source": [
    "filt = (titanic['Embarked'] == 'C') & (titanic['Survived'] == 1) & (titanic['Sex'] == 'male')\n",
    "titanic.loc[filt, ['Name', 'Embarked']]"
   ]
  },
  {
   "cell_type": "code",
   "execution_count": null,
   "metadata": {},
   "outputs": [],
   "source": [
    "filt = (titanic['Name'].str.contains('John'))\n",
    "titanic.loc[filt, 'Name']"
   ]
  },
  {
   "cell_type": "code",
   "execution_count": null,
   "metadata": {},
   "outputs": [],
   "source": [
    "titanic.loc[filt, 'Name']"
   ]
  },
  {
   "cell_type": "code",
   "execution_count": null,
   "metadata": {},
   "outputs": [],
   "source": [
    "[x.upper() for x in klassen.columns]"
   ]
  },
  {
   "cell_type": "code",
   "execution_count": null,
   "metadata": {},
   "outputs": [],
   "source": [
    "klassen"
   ]
  },
  {
   "cell_type": "code",
   "execution_count": null,
   "metadata": {},
   "outputs": [],
   "source": [
    "def tidy_email(email):\n",
    "    email = email.lower()\n",
    "    email = email.replace('ä', 'ae')\n",
    "    email = email.replace('ö', 'oe')\n",
    "    email = email.replace('ü', 'ue')\n",
    "    email = email.replace('é', 'e')\n",
    "    email = email.replace('è', 'e')    \n",
    "    email = email.replace('ë', 'e')\n",
    "    email = email.replace('á', 'a')  \n",
    "    return email"
   ]
  },
  {
   "cell_type": "code",
   "execution_count": null,
   "metadata": {},
   "outputs": [],
   "source": [
    "for k in klassen:\n",
    "    k['E-Mail'] = k['Vorname'] + '.' + k['Name'] + '@mng.ch'\n",
    "    k['E-Mail'] = k['E-Mail'].apply(tidy_email)\n",
    "    \n",
    "klassen"
   ]
  },
  {
   "cell_type": "code",
   "execution_count": null,
   "metadata": {},
   "outputs": [],
   "source": [
    "klassen"
   ]
  },
  {
   "cell_type": "code",
   "execution_count": null,
   "metadata": {},
   "outputs": [],
   "source": [
    "klassen"
   ]
  },
  {
   "cell_type": "code",
   "execution_count": null,
   "metadata": {},
   "outputs": [],
   "source": [
    "k3b"
   ]
  },
  {
   "cell_type": "code",
   "execution_count": null,
   "metadata": {},
   "outputs": [],
   "source": [
    "test = \"céline.müller@mng.ch\"\n",
    "test.replace('é', 'e')"
   ]
  },
  {
   "cell_type": "code",
   "execution_count": null,
   "metadata": {},
   "outputs": [],
   "source": [
    "klassen[3]"
   ]
  },
  {
   "cell_type": "code",
   "execution_count": null,
   "metadata": {},
   "outputs": [],
   "source": []
  },
  {
   "cell_type": "code",
   "execution_count": null,
   "metadata": {},
   "outputs": [],
   "source": [
    "for k in klassen:\n",
    "    filt = (k['E-Mail'].str.contains(' '))\n",
    "    k.loc[filt]"
   ]
  },
  {
   "cell_type": "code",
   "execution_count": null,
   "metadata": {},
   "outputs": [],
   "source": [
    "for k in klassen:\n",
    "    filt = (k['E-Mail'].str.contains(' '))\n",
    "    print(k.loc[filt, 'E-Mail'])"
   ]
  },
  {
   "cell_type": "code",
   "execution_count": null,
   "metadata": {},
   "outputs": [],
   "source": [
    "import polars as pl\n",
    "import polars_root as pr\n",
    "import matplotlib.pyplot as plt"
   ]
  },
  {
   "cell_type": "code",
   "execution_count": null,
   "metadata": {},
   "outputs": [],
   "source": [
    "path = 'GamGam.parquet'\n",
    "lf = pl.scan_parquet(path)"
   ]
  },
  {
   "cell_type": "code",
   "execution_count": null,
   "metadata": {},
   "outputs": [],
   "source": [
    "plt.hist(lf\n",
    "    .filter(pl.col('lep_n') > 0)\n",
    "    .select(pl.col('lep_E').list.sum())\n",
    "    .collect()\n",
    "        )"
   ]
  },
  {
   "cell_type": "code",
   "execution_count": null,
   "metadata": {},
   "outputs": [],
   "source": [
    "(lf\n",
    "    .select(['lep_n', 'photon_n'])\n",
    "    .group_by('lep_n')\n",
    "    .agg(pl.len())\n",
    "    .sort('lep_n')\n",
    "    .collect()\n",
    ")"
   ]
  },
  {
   "cell_type": "code",
   "execution_count": null,
   "metadata": {},
   "outputs": [],
   "source": [
    "(lf\n",
    "    .filter(pl.col('lep_n') == 2)\n",
    "    .select(pl.col('lep_E').list.sum())\n",
    "    .head(100)\n",
    "    .collect()\n",
    ")"
   ]
  },
  {
   "cell_type": "code",
   "execution_count": null,
   "metadata": {},
   "outputs": [],
   "source": [
    "tot_lep_E = (lf\n",
    "    .filter(pl.col('lep_n') == 2)\n",
    "    .select(pl.col('lep_E').list.sum().alias('tot_lep_E'))\n",
    "    .collect()\n",
    ")"
   ]
  },
  {
   "cell_type": "code",
   "execution_count": null,
   "metadata": {},
   "outputs": [],
   "source": [
    "lf.select(pl.col('largeRjet_n').value_counts().alias('count')).sort('count').collect()"
   ]
  },
  {
   "cell_type": "code",
   "execution_count": null,
   "metadata": {},
   "outputs": [],
   "source": []
  }
 ],
 "metadata": {
  "language_info": {
   "name": "python",
   "pygments_lexer": "ipython3"
  }
 },
 "nbformat": 4,
 "nbformat_minor": 4
}
