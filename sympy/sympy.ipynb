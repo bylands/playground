{
 "cells": [
  {
   "cell_type": "code",
   "execution_count": null,
   "metadata": {},
   "outputs": [],
   "source": [
    "import numpy as np\n",
    "import sympy as sp\n",
    "import matplotlib.pyplot as plt\n",
    "from mpl_toolkits import mplot3d\n",
    "from scipy.integrate import dblquad"
   ]
  },
  {
   "cell_type": "code",
   "execution_count": null,
   "metadata": {},
   "outputs": [],
   "source": [
    "def B(x, y, a, B0=1):\n",
    "    return B0*(1-2*(x**2+y**2)/a**2)"
   ]
  },
  {
   "cell_type": "code",
   "execution_count": null,
   "metadata": {},
   "outputs": [],
   "source": [
    "x, y, a, B0 = sp.symbols('x y a B0')"
   ]
  },
  {
   "cell_type": "code",
   "execution_count": null,
   "metadata": {},
   "outputs": [],
   "source": [
    "expr = sp.exp(4*x**2)/sp.exp(1)\n",
    "sp.integrate(expr, (x, -1/2, 1/2)).evalf()"
   ]
  },
  {
   "cell_type": "code",
   "execution_count": null,
   "metadata": {},
   "outputs": [],
   "source": [
    "a_value = 2\n",
    "\n",
    "N = 1000\n",
    "da = a_value/N\n",
    "dA = da**2\n",
    "\n",
    "array_x = np.linspace(-a_value/2+da/2, a_value/2-da/2, N)\n",
    "array_y = np.linspace(-a_value/2+da/2, a_value/2-da/2, N)\n",
    "\n",
    "flux = 0\n",
    "\n",
    "for x in array_x:\n",
    "    for y in array_y:\n",
    "        flux += B(x, y, a_value)*dA\n",
    "\n",
    "print(f'magnetic flux: {flux:.5f}')"
   ]
  },
  {
   "cell_type": "code",
   "execution_count": null,
   "metadata": {},
   "outputs": [],
   "source": [
    "a_value = 0.1\n",
    "\n",
    "N = 1000\n",
    "da = a_value/N\n",
    "dA = da**2\n",
    "\n",
    "array_x = np.linspace(-a_value/2+da/2, a_value/2-da/2, N)\n",
    "array_y = np.linspace(-a_value/2+da/2, a_value/2-da/2, N)\n",
    "\n",
    "x, y = np.meshgrid(array_x, array_y)\n",
    "flux = (B(x, y, a_value, B0=0.2)*dA).sum()\n",
    "print(f'magnetic flux: {flux:.5f}')"
   ]
  },
  {
   "cell_type": "code",
   "execution_count": null,
   "metadata": {},
   "outputs": [],
   "source": [
    "def parabola(x, y, a, zmax=1):\n",
    "    return zmax*(1-(2*x/a)**2)\n",
    "\n",
    "def Bvec(x, y, z, a, L, B0=1, al=1, be=1):\n",
    "    shape = x.shape\n",
    "    return np.moveaxis(np.array([al*x, np.zeros(shape), B0*np.exp(-be*z)]), 0, -1)\n"
   ]
  },
  {
   "cell_type": "code",
   "execution_count": null,
   "metadata": {},
   "outputs": [],
   "source": [
    "a_value = 0.1\n",
    "L_value = 0.2\n",
    "\n",
    "Nx = 5000\n",
    "Ny = 5000\n",
    "\n",
    "dx = a_value/(Nx-1)\n",
    "dy = L_value/(Ny-1)\n",
    "\n",
    "array_x = np.linspace(-a_value/2, a_value/2, Nx)\n",
    "array_y = np.linspace(-L_value/2, L_value/2, Ny)\n",
    "\n",
    "x, y = np.meshgrid(array_x, array_y)\n",
    "\n",
    "z = parabola(x, y, a_value, zmax=0.5)\n",
    "\n",
    "fig, ax = plt.subplots(subplot_kw={'projection': '3d'})\n",
    "ax.plot_surface(x, y, z)"
   ]
  },
  {
   "cell_type": "code",
   "execution_count": null,
   "metadata": {},
   "outputs": [],
   "source": [
    "dz = np.diff(z, axis=1)[0]\n",
    "nx = -dz/dx\n",
    "ny = np.zeros(Nx-1)\n",
    "nz = np.ones(Nx-1)\n",
    "n = np.moveaxis(np.array([nx, ny, nz]), 0, 1)\n",
    "\n",
    "dA = n * dx * dy\n",
    "dA = np.reshape(dA, (1, Nx-1, 3))\n",
    "\n",
    "xB_array = array_x[1:] - dx/2\n",
    "yB_array = array_y[1:] - dy/2\n",
    "\n",
    "xB, yB = np.meshgrid(xB_array, yB_array)\n",
    "zB = parabola(xB, yB, a_value)\n",
    "\n",
    "flux = (dA*Bvec(xB, yB, zB, a_value, L_value, al=0.5, B0=0.2, be=0.5)).sum()\n",
    "print(f'magnetic flux: {flux:.5f}')"
   ]
  },
  {
   "cell_type": "code",
   "execution_count": null,
   "metadata": {},
   "outputs": [],
   "source": [
    "r, z, L = sp.symbols('r z L', real=True)"
   ]
  },
  {
   "cell_type": "code",
   "execution_count": null,
   "metadata": {},
   "outputs": [],
   "source": [
    "expr = ((z-L)/sp.sqrt(r**2+(z-L)**2)-(z+L)/sp.sqrt(r**2+(z+L)**2))"
   ]
  },
  {
   "cell_type": "code",
   "execution_count": null,
   "metadata": {},
   "outputs": [],
   "source": [
    "sp.integrate(sp.integrate(expr, (r, 0, sp.oo)), (z, -sp.oo, sp.oo))"
   ]
  },
  {
   "cell_type": "code",
   "execution_count": null,
   "metadata": {},
   "outputs": [],
   "source": [
    "expr2 = ((L/2-z)/sp.sqrt(r**2+(z-L/2)**2)+(L/2+z)/sp.sqrt(r**2+(z+L/2)**2))/r"
   ]
  },
  {
   "cell_type": "code",
   "execution_count": null,
   "metadata": {},
   "outputs": [],
   "source": [
    "sp.integrate(sp.integrate(expr2, (z, -sp.oo, sp.oo)), (r))"
   ]
  },
  {
   "cell_type": "code",
   "execution_count": null,
   "metadata": {},
   "outputs": [],
   "source": []
  }
 ],
 "metadata": {
  "language_info": {
   "name": "python",
   "pygments_lexer": "ipython3"
  }
 },
 "nbformat": 4,
 "nbformat_minor": 2
}
