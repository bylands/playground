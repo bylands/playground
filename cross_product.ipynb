{
 "cells": [
  {
   "cell_type": "code",
   "execution_count": 23,
   "metadata": {},
   "outputs": [],
   "source": [
    "from sympy import symbols, Matrix, print_latex, IndexedBase"
   ]
  },
  {
   "cell_type": "code",
   "execution_count": 2,
   "metadata": {},
   "outputs": [],
   "source": [
    "def vector(x, y, z):\n",
    "    return Matrix([[x], [y], [z]])"
   ]
  },
  {
   "cell_type": "code",
   "execution_count": 29,
   "metadata": {},
   "outputs": [],
   "source": [
    "B = IndexedBase('B')\n",
    "L = IndexedBase('L')\n",
    "x, y, z = symbols('x y z')\n",
    "B = vector(B[x], B[y], B[z])\n",
    "L = vector(L[x], L[y], L[z])"
   ]
  },
  {
   "cell_type": "code",
   "execution_count": 30,
   "metadata": {},
   "outputs": [],
   "source": [
    "BxL = B.cross(L)"
   ]
  },
  {
   "cell_type": "code",
   "execution_count": 31,
   "metadata": {},
   "outputs": [
    {
     "data": {
      "text/latex": [
       "$\\displaystyle \\left({B}_{x} {L}_{y} - {B}_{y} {L}_{x}\\right) {B}_{z} + \\left(- {B}_{x} {L}_{z} + {B}_{z} {L}_{x}\\right) {B}_{y} + \\left({B}_{y} {L}_{z} - {B}_{z} {L}_{y}\\right) {B}_{x}$"
      ],
      "text/plain": [
       "(B[x]*L[y] - B[y]*L[x])*B[z] + (-B[x]*L[z] + B[z]*L[x])*B[y] + (B[y]*L[z] - B[z]*L[y])*B[x]"
      ]
     },
     "execution_count": 31,
     "metadata": {},
     "output_type": "execute_result"
    }
   ],
   "source": [
    "B.dot(BxL)"
   ]
  },
  {
   "cell_type": "code",
   "execution_count": 33,
   "metadata": {},
   "outputs": [
    {
     "name": "stdout",
     "output_type": "stream",
     "text": [
      "\\left[\\begin{matrix}{B}_{x}\\\\{B}_{y}\\\\{B}_{z}\\end{matrix}\\right]\n"
     ]
    }
   ],
   "source": [
    "print_latex(B)"
   ]
  },
  {
   "cell_type": "code",
   "execution_count": 34,
   "metadata": {},
   "outputs": [],
   "source": [
    "a = IndexedBase('a')\n",
    "b = IndexedBase('b')\n",
    "x, y, z = symbols('x y z')\n",
    "a = vector(a[x], a[y], a[z])\n",
    "b = vector(b[x], b[y], b[z])"
   ]
  },
  {
   "cell_type": "code",
   "execution_count": 36,
   "metadata": {},
   "outputs": [
    {
     "name": "stdout",
     "output_type": "stream",
     "text": [
      "\\left[\\begin{matrix}{a}_{y} {b}_{z} - {a}_{z} {b}_{y}\\\\- {a}_{x} {b}_{z} + {a}_{z} {b}_{x}\\\\{a}_{x} {b}_{y} - {a}_{y} {b}_{x}\\end{matrix}\\right]\n"
     ]
    }
   ],
   "source": [
    "print_latex(a.cross(b))"
   ]
  },
  {
   "cell_type": "code",
   "execution_count": null,
   "metadata": {},
   "outputs": [],
   "source": []
  }
 ],
 "metadata": {
  "kernelspec": {
   "display_name": "playground",
   "language": "python",
   "name": "python3"
  },
  "language_info": {
   "codemirror_mode": {
    "name": "ipython",
    "version": 3
   },
   "file_extension": ".py",
   "mimetype": "text/x-python",
   "name": "python",
   "nbconvert_exporter": "python",
   "pygments_lexer": "ipython3",
   "version": "3.10.9"
  },
  "orig_nbformat": 4
 },
 "nbformat": 4,
 "nbformat_minor": 2
}
