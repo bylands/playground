{
 "cells": [
  {
   "cell_type": "code",
   "execution_count": null,
   "metadata": {},
   "outputs": [],
   "source": [
    "import sympy as sp\n",
    "from sympy.plotting import plot"
   ]
  },
  {
   "cell_type": "code",
   "execution_count": null,
   "metadata": {},
   "outputs": [],
   "source": [
    "N = 6\n",
    "t = sp.symbols('t', real= True)\n",
    "m = sp.symbols('m', real=True)\n",
    "k = sp.symbols('k', real=True)\n",
    "a = sp.symbols('a', real=True)\n",
    "c = sp.symbols('c:'+str(N+2), real=True)\n",
    "omega = sp.symbols('omega', real=True)\n",
    "x = sp.symbols('x0:'+str(N+2), cls=sp.Function)"
   ]
  },
  {
   "cell_type": "code",
   "execution_count": null,
   "metadata": {},
   "outputs": [],
   "source": [
    "T = m / 2 * sum(x[k](t).diff(t)**2 for k in range(1, N+1))\n",
    "V = (k / 2 * sum(x[k](t)**2 for k in range(1, N+1)) + \n",
    "     a * sum((x[k+1](t)-x[k](t))**2 for k in range(1, N+1)))"
   ]
  },
  {
   "cell_type": "code",
   "execution_count": null,
   "metadata": {},
   "outputs": [],
   "source": [
    "V = V.subs({x[0](t): x[N](t),\n",
    "            x[N+1](t): x[1](t)})"
   ]
  },
  {
   "cell_type": "code",
   "execution_count": null,
   "metadata": {},
   "outputs": [],
   "source": [
    "L = T - V"
   ]
  },
  {
   "cell_type": "code",
   "execution_count": null,
   "metadata": {},
   "outputs": [],
   "source": [
    "def euler_lagrange(L, i):\n",
    "    p = L.diff(x[i](t).diff(t))\n",
    "    return sp.Eq(p.diff(t), L.diff(x[i](t))).simplify()\n",
    "\n",
    "eqs = [euler_lagrange(L, i) for i in range(1, N+1)]"
   ]
  },
  {
   "cell_type": "code",
   "execution_count": null,
   "metadata": {},
   "outputs": [],
   "source": [
    "lhs = sp.Matrix([e.lhs for e in eqs])\n",
    "rhs = sp.Matrix([e.rhs for e in eqs])\n",
    "eq = sp.Eq(lhs, rhs)"
   ]
  },
  {
   "cell_type": "code",
   "execution_count": null,
   "metadata": {},
   "outputs": [],
   "source": [
    "ansatz = {x[k](t): c[k] * sp.exp(sp.I * omega * t) for k in range(1, N+1)}"
   ]
  },
  {
   "cell_type": "code",
   "execution_count": null,
   "metadata": {},
   "outputs": [],
   "source": [
    "eq = eq.subs(ansatz).doit().simplify()"
   ]
  },
  {
   "cell_type": "code",
   "execution_count": null,
   "metadata": {},
   "outputs": [],
   "source": [
    "eq = sp.Eq(-eq.lhs * sp.exp(-sp.I*omega*t), -eq.rhs * sp.exp(-sp.I*omega*t)).simplify()"
   ]
  },
  {
   "cell_type": "code",
   "execution_count": null,
   "metadata": {},
   "outputs": [],
   "source": [
    "def to_matrix(exprs, coeffs):\n",
    "    A = sp.Matrix(sp.zeros(len(exprs)))\n",
    "    for irow, e in enumerate(exprs):\n",
    "        e = e.expand().collect(coeffs)\n",
    "        for icol, c in enumerate(coeffs):\n",
    "            A[irow, icol] = e.coeff(c)\n",
    "    \n",
    "    return A"
   ]
  },
  {
   "cell_type": "code",
   "execution_count": null,
   "metadata": {},
   "outputs": [],
   "source": [
    "K = to_matrix(eq.rhs, [c[k] for k in range(1, N+1)])\n",
    "M = to_matrix(eq.lhs, [c[k] for k in range(1, N+1)])"
   ]
  },
  {
   "cell_type": "code",
   "execution_count": null,
   "metadata": {},
   "outputs": [],
   "source": [
    "M"
   ]
  },
  {
   "cell_type": "code",
   "execution_count": null,
   "metadata": {},
   "outputs": [],
   "source": [
    "x_eigenvecs = []\n",
    "x_eigenvals = []\n",
    "\n",
    "for ev, mult, vecs in K.eigenvects():\n",
    "    x_eigenvecs.extend(vecs)\n",
    "    x_eigenvals.extend([ev] * mult)"
   ]
  },
  {
   "cell_type": "code",
   "execution_count": null,
   "metadata": {},
   "outputs": [],
   "source": [
    "b = sp.symbols('b:'+str(N+1))\n",
    "\n",
    "modes = [b[k+1] * x_eigenvecs[k] * sp.exp(sp.I*sp.sqrt(x_eigenvals[k]/m)*t) for k in range(N)]\n",
    "sol = modes[0]\n",
    "\n",
    "for mode in modes[1:]:\n",
    "    sol = sol + mode"
   ]
  },
  {
   "cell_type": "code",
   "execution_count": null,
   "metadata": {},
   "outputs": [],
   "source": [
    "paras = {k: 1, m: 1, a: 1}"
   ]
  },
  {
   "cell_type": "code",
   "execution_count": null,
   "metadata": {},
   "outputs": [],
   "source": [
    "initial = sp.Matrix(sp.zeros(N, 1))\n",
    "initial[0] = 1\n"
   ]
  },
  {
   "cell_type": "code",
   "execution_count": null,
   "metadata": {},
   "outputs": [],
   "source": [
    "sol_coeff = sp.solve(sp.Eq(sol.subs(t, 0), initial))\n",
    "sol_concrete = sol.subs(sol_coeff)"
   ]
  },
  {
   "cell_type": "code",
   "execution_count": null,
   "metadata": {},
   "outputs": [],
   "source": [
    "tmax = 10\n",
    "\n",
    "pl = plot(sp.re(sol_concrete.subs(paras)[0]), (t, 0, tmax),\n",
    "          show=False, label='$x_1(t)$', legend=True)\n",
    "\n",
    "for i in range(1, N):\n",
    "    pl2 = plot(sp.re(sol_concrete.subs(paras)[i]), (t, 0, tmax),\n",
    "          show=False, label=f'$x_{i+1}(t)$', legend=True)\n",
    "    pl.extend(pl2)\n",
    "\n",
    "pl.show()\n"
   ]
  },
  {
   "cell_type": "code",
   "execution_count": null,
   "metadata": {},
   "outputs": [],
   "source": []
  }
 ],
 "metadata": {
  "language_info": {
   "name": "python",
   "pygments_lexer": "ipython3"
  }
 },
 "nbformat": 4,
 "nbformat_minor": 2
}
