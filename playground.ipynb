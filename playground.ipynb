{
 "cells": [
  {
   "cell_type": "code",
   "execution_count": null,
   "metadata": {},
   "outputs": [],
   "source": [
    "import pandas as pd\n",
    "import matplotlib.pyplot as plt\n",
    "import numpy as np\n",
    "import pickle\n",
    "\n",
    "df = pd.read_excel('MINT-Woche 2023 (SuS).xlsx')\n",
    "\n",
    "cols_to_drop = ['ID', 'Startzeit', 'Fertigstellungszeit', 'E-Mail']\n",
    "\n",
    "# read dictionary with alternativ names for modules\n",
    "with open('modules.pkl', 'rb') as f:\n",
    "    modules = pickle.load(f)\n",
    "\n",
    "modules_short = {k: v[0] for k, v in modules.items()}\n",
    "modules_code = {k: v[1] for k, v in modules.items()}\n",
    "\n",
    "# read dictionary with short column names\n",
    "with open('short_names.pkl', 'rb') as f:\n",
    "    short_names = pickle.load(f)\n",
    "\n",
    "def prepare_df (df_):\n",
    "    return (df_\n",
    "        .drop(cols_to_drop, axis=1)\n",
    "        .rename(columns=short_names)\n",
    "        .assign(score = lambda x: x.score+1)\n",
    "        .assign(company_score = lambda x: x.company_score+1)\n",
    "        .assign(uni1_score = lambda x: x.uni1_score+1)\n",
    "        .assign(uni2_score = lambda x: x.uni2_score+1)\n",
    "        .assign(uni3_score = lambda x: x.uni3_score+1)\n",
    "        .assign(workshop_score = lambda x: x.workshop_score+1)\n",
    "        .assign(gender_score = lambda x: x.gender_score+1)\n",
    "        .assign(company_short = lambda x: x.company.map(modules_short))\n",
    "        .assign(company_code = lambda x: x.company.map(modules_code))\n",
    "        .assign(uni1_short = lambda x: x.uni1.map(modules_short))\n",
    "        .assign(uni1_code = lambda x: x.uni1.map(modules_code))\n",
    "        .assign(uni2_short = lambda x: x.uni2.map(modules_short))\n",
    "        .assign(uni2_code = lambda x: x.uni2.map(modules_code))\n",
    "        .assign(uni3_short = lambda x: x.uni3.map(modules_short))\n",
    "        .assign(uni3_code = lambda x: x.uni3.map(modules_code))\n",
    "        .assign(workshop_short = lambda x: x.workshop.map(modules_short))\n",
    "        .assign(workshop_code = lambda x: x.workshop.map(modules_code))\n",
    "    )\n",
    "\n",
    "df = prepare_df(df)\n",
    "df"
   ]
  },
  {
   "cell_type": "markdown",
   "metadata": {},
   "source": []
  },
  {
   "cell_type": "code",
   "execution_count": null,
   "metadata": {},
   "outputs": [],
   "source": [
    "# function to plot histograms\n",
    "def plot_hist(df, column, bins, suptitle, title, color):\n",
    "    fig = plt.figure(figsize=(3, 3), dpi=150)\n",
    "    df.hist(column=column, bins=bins, rwidth=0.8, color=color, ax=plt.gca())\n",
    "    plt.suptitle(suptitle, y=1.05)\n",
    "    plt.title(title)\n",
    "    plt.xticks(range(1,7))\n",
    "    plt.grid(False)\n",
    "    plt.show()\n",
    "    plt.close()"
   ]
  },
  {
   "cell_type": "code",
   "execution_count": null,
   "metadata": {},
   "outputs": [],
   "source": [
    "company_grp = df.groupby('company_short')\n",
    "\n",
    "(company_grp\n",
    "    .company_score.mean()\n",
    ")\n",
    "\n",
    "hist=df.company_score.hist(by=df.company_short)\n",
    "# for group_name, group in grouped:\n",
    "#     mean = group['company_score'].mean()\n",
    "#     std = group['company_score'].std()\n",
    "#     count = group['company_score'].count()\n",
    "\n",
    "#     suptitle = f'{group_name}'\n",
    "#     title = f'N = {count}, {mean:.1f} ± {std:.1f}'\n",
    "\n",
    "#     plot_hist(group, 'company_score', np.arange(2.5, 7), suptitle, title, 'black')\n"
   ]
  },
  {
   "cell_type": "code",
   "execution_count": null,
   "metadata": {},
   "outputs": [],
   "source": [
    "hist.iloc[1]"
   ]
  },
  {
   "cell_type": "code",
   "execution_count": null,
   "metadata": {},
   "outputs": [],
   "source": [
    "types = ['company', 'uni1', 'uni2', 'uni3', 'workshop']\n",
    "types_short = [type+'_short' for type in types]\n",
    "types_score = [type+'_score' for type in types]\n",
    "\n",
    "for short, score in zip(types_short, types_score):\n",
    "    groups = df.groupby([short])\n",
    "    for g in :\n",
    "        print(groups.get_group(g)[[short, score]])\n"
   ]
  },
  {
   "cell_type": "code",
   "execution_count": null,
   "metadata": {},
   "outputs": [],
   "source": [
    "df.groupby('company_short').groups"
   ]
  },
  {
   "cell_type": "code",
   "execution_count": null,
   "metadata": {},
   "outputs": [],
   "source": [
    "df_f = df[df['sex'] == 'weiblich']\n",
    "df_m = df[df['sex'] == 'männlich']"
   ]
  },
  {
   "cell_type": "code",
   "execution_count": null,
   "metadata": {},
   "outputs": [],
   "source": [
    "female = '\\u2640'\n",
    "male = '\\u2642'\n",
    "mean = '\\u2300'\n",
    "\n",
    "path = 'general/'\n",
    "score = 'score'\n",
    "\n",
    "m_mean = df[score].mean()\n",
    "m_std = df[score].std()\n",
    "m_count = len(df.index)\n",
    "m_mean_f = df_f[score].mean()\n",
    "m_std_f = df_f[score].std()\n",
    "m_count_f = len(df_f.index)\n",
    "m_mean_m = df_m[score].mean()\n",
    "m_std_m = df_m[score].std()\n",
    "m_count_m = len(df_m.index)\n",
    "\n",
    "title = f'{mean} = ({m_mean:.1f} ± {m_std:.1f}) von {m_count} {male}+{female}'\n",
    "title_f = f'{mean} = ({m_mean_f:.1f} ± {m_std_f:.1f}) von {m_count_f} {female}'\n",
    "title_m = f'{mean} = ({m_mean_m:.1f} ± {m_std_m:.1f}) von {m_count_m} {male}'\n",
    "\n",
    "fig = plt.figure(figsize=(3, 3), dpi=150)\n",
    "df.hist(column=score, bins=np.arange(2.5, 7, 1), rwidth=0.8, color='black', ax = plt.gca())\n",
    "plt.title(title)\n",
    "plt.xticks(range(1,7))\n",
    "plt.grid(False)\n",
    "plt.savefig(path+'score.png')\n",
    "\n",
    "fig = plt.figure(figsize=(3, 3), dpi=150)\n",
    "df_f.hist(column=score, bins=np.arange(2.5, 7, 1), rwidth=0.8, color='red', ax = plt.gca())\n",
    "plt.title(title_f)\n",
    "plt.xticks(range(1,7))\n",
    "plt.grid(False)\n",
    "plt.savefig(path+'score_f.png')\n",
    "\n",
    "fig = plt.figure(figsize=(3, 3), dpi=150)\n",
    "df_m.hist(column=score, bins=np.arange(2.5, 7, 1), rwidth=0.8, color='blue', ax = plt.gca())\n",
    "plt.title(title_m)\n",
    "plt.xticks(range(1,7))\n",
    "plt.grid(False)\n",
    "plt.savefig(path+'score_m.png')"
   ]
  },
  {
   "cell_type": "code",
   "execution_count": null,
   "metadata": {},
   "outputs": [],
   "source": [
    "type = 'company'\n",
    "\n",
    "# function to plot histograms\n",
    "def plot_hist(df, column, bins, title, color):\n",
    "    fig = plt.figure(figsize=(3, 3), dpi=150)\n",
    "    df.hist(column=column, bins=bins, rwidth=0.8, color=color, ax = plt.gca())\n",
    "    plt.title(title)\n",
    "    plt.xticks(range(1,7))\n",
    "    plt.grid(False)\n",
    "    plt.show()\n"
   ]
  },
  {
   "cell_type": "code",
   "execution_count": null,
   "metadata": {},
   "outputs": [],
   "source": [
    "for index, module in df.groupby(type):\n",
    "    type_short = type+'_short'\n",
    "    title = f'{module[type_short].iloc[0]}'\n",
    "    plot_hist(module, type+'_score', np.arange(2.5, 7, 1), title, 'black')"
   ]
  },
  {
   "cell_type": "code",
   "execution_count": null,
   "metadata": {},
   "outputs": [],
   "source": []
  }
 ],
 "metadata": {
  "language_info": {
   "name": "python",
   "pygments_lexer": "ipython3"
  }
 },
 "nbformat": 4,
 "nbformat_minor": 2
}
